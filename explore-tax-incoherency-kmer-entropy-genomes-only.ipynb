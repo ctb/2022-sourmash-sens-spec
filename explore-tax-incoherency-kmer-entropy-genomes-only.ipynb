{
 "cells": [
  {
   "cell_type": "markdown",
   "id": "8e571993",
   "metadata": {},
   "source": [
    "# How many k-mers have H=0?"
   ]
  },
  {
   "cell_type": "code",
   "execution_count": 1,
   "id": "f5a48eb6",
   "metadata": {},
   "outputs": [],
   "source": [
    "import sourmash\n",
    "from sourmash.lca import lca_utils\n",
    "from collections import defaultdict, Counter\n",
    "import math\n",
    "import pandas as pd"
   ]
  },
  {
   "cell_type": "code",
   "execution_count": 2,
   "id": "abca0ba1",
   "metadata": {},
   "outputs": [],
   "source": [
    "idx = sourmash.load_file_as_index('gtdb-rs207.genomic.k31.sqldb')"
   ]
  },
  {
   "cell_type": "code",
   "execution_count": 3,
   "id": "6ba6fa19",
   "metadata": {},
   "outputs": [
    {
     "data": {
      "text/plain": [
       "<sourmash.index.sqlite_index.LCA_SqliteDatabase at 0x103a44dc0>"
      ]
     },
     "execution_count": 3,
     "metadata": {},
     "output_type": "execute_result"
    }
   ],
   "source": [
    "idx"
   ]
  },
  {
   "cell_type": "code",
   "execution_count": 4,
   "id": "622271bf",
   "metadata": {},
   "outputs": [
    {
     "name": "stdout",
     "output_type": "stream",
     "text": [
      "317542\n"
     ]
    }
   ],
   "source": [
    "print(len(idx))"
   ]
  },
  {
   "cell_type": "code",
   "execution_count": 5,
   "id": "ff96b342",
   "metadata": {},
   "outputs": [],
   "source": [
    "def calc_entropy(lineages, *, rank='species'):\n",
    "    cnt = Counter()\n",
    "    for lin in lineages:\n",
    "        while lin[-1].rank != rank:\n",
    "            lin = lin[:-1]\n",
    "        cnt[lin] += 1\n",
    "        \n",
    "    total = sum(cnt.values())\n",
    "    H = 0\n",
    "    for v in cnt.values():\n",
    "        p = v / total\n",
    "        H -= p * math.log(p, 2)\n",
    "        \n",
    "    return H"
   ]
  },
  {
   "cell_type": "code",
   "execution_count": 12,
   "id": "7e109f9c",
   "metadata": {},
   "outputs": [
    {
     "name": "stdout",
     "output_type": "stream",
     "text": [
      "... 0\n",
      "... 100000\n",
      "... 200000\n",
      "... 300000\n",
      "... 400000\n",
      "... 500000\n",
      "... 600000\n",
      "... 700000\n",
      "... 800000\n",
      "... 900000\n",
      "... 1000000\n",
      "... 1100000\n",
      "... 1200000\n",
      "... 1300000\n",
      "... 1400000\n",
      "... 1500000\n",
      "... 1600000\n",
      "... 1700000\n",
      "... 1800000\n",
      "... 1900000\n",
      "... 2000000\n",
      "... 2100000\n",
      "... 2200000\n",
      "... 2300000\n",
      "... 2400000\n",
      "... 2500000\n",
      "... 2600000\n",
      "... 2700000\n",
      "... 2800000\n",
      "... 2900000\n",
      "... 3000000\n",
      "... 3100000\n",
      "... 3200000\n",
      "... 3300000\n",
      "... 3400000\n",
      "... 3500000\n",
      "... 3600000\n",
      "... 3700000\n",
      "... 3800000\n",
      "... 3900000\n",
      "... 4000000\n",
      "... 4100000\n",
      "... 4200000\n",
      "... 4300000\n",
      "... 4400000\n",
      "... 4500000\n",
      "... 4600000\n",
      "... 4700000\n",
      "... 4800000\n",
      "... 4900000\n",
      "... 5000000\n",
      "... 5100000\n",
      "... 5200000\n",
      "... 5300000\n",
      "... 5400000\n",
      "... 5500000\n",
      "... 5600000\n",
      "... 5700000\n",
      "... 5800000\n",
      "... 5900000\n",
      "... 6000000\n",
      "... 6100000\n",
      "... 6200000\n",
      "... 6300000\n",
      "... 6400000\n",
      "... 6500000\n",
      "... 6600000\n",
      "... 6700000\n",
      "... 6800000\n",
      "... 6900000\n",
      "... 7000000\n",
      "... 7100000\n",
      "... 7200000\n",
      "... 7300000\n",
      "... 7400000\n",
      "... 7500000\n",
      "... 7600000\n",
      "... 7700000\n",
      "... 7800000\n",
      "... 7900000\n",
      "... 8000000\n",
      "... 8100000\n",
      "... 8200000\n",
      "... 8300000\n",
      "... 8400000\n",
      "... 8500000\n",
      "... 8600000\n",
      "... 8700000\n",
      "... 8800000\n",
      "... 8900000\n",
      "... 9000000\n",
      "... 9100000\n",
      "... 9200000\n",
      "... 9300000\n",
      "... 9400000\n",
      "... 9500000\n",
      "... 9600000\n",
      "... 9700000\n",
      "... 9800000\n",
      "... 9900000\n",
      "... 10000000\n",
      "... 10100000\n",
      "... 10200000\n",
      "... 10300000\n",
      "... 10400000\n",
      "... 10500000\n",
      "... 10600000\n",
      "... 10700000\n",
      "... 10800000\n",
      "... 10900000\n",
      "... 11000000\n",
      "... 11100000\n",
      "... 11200000\n",
      "... 11300000\n",
      "... 11400000\n",
      "... 11500000\n",
      "... 11600000\n",
      "... 11700000\n",
      "... 11800000\n",
      "... 11900000\n",
      "... 12000000\n",
      "... 12100000\n",
      "... 12200000\n",
      "... 12300000\n",
      "... 12400000\n",
      "... 12500000\n",
      "... 12600000\n",
      "... 12700000\n",
      "... 12800000\n",
      "... 12900000\n",
      "... 13000000\n",
      "... 13100000\n",
      "... 13200000\n",
      "... 13300000\n",
      "... 13400000\n",
      "... 13500000\n",
      "... 13600000\n",
      "... 13700000\n",
      "... 13800000\n",
      "... 13900000\n",
      "... 14000000\n",
      "... 14100000\n",
      "... 14200000\n",
      "... 14300000\n",
      "... 14400000\n",
      "... 14500000\n",
      "... 14600000\n",
      "... 14700000\n",
      "... 14800000\n",
      "... 14900000\n",
      "... 15000000\n",
      "... 15100000\n",
      "... 15200000\n",
      "... 15300000\n",
      "... 15400000\n",
      "... 15500000\n",
      "... 15600000\n",
      "... 15700000\n",
      "... 15800000\n",
      "... 15900000\n",
      "... 16000000\n",
      "... 16100000\n",
      "... 16200000\n",
      "... 16300000\n",
      "... 16400000\n",
      "... 16500000\n",
      "... 16600000\n",
      "... 16700000\n",
      "... 16800000\n",
      "... 16900000\n",
      "... 17000000\n",
      "... 17100000\n",
      "... 17200000\n",
      "... 17300000\n",
      "... 17400000\n",
      "... 17500000\n",
      "... 17600000\n",
      "... 17700000\n",
      "... 17800000\n",
      "... 17900000\n",
      "... 18000000\n",
      "... 18100000\n",
      "... 18200000\n",
      "... 18300000\n",
      "... 18400000\n",
      "... 18500000\n",
      "... 18600000\n",
      "... 18700000\n",
      "... 18800000\n",
      "... 18900000\n",
      "... 19000000\n",
      "... 19100000\n",
      "... 19200000\n",
      "... 19300000\n",
      "... 19400000\n",
      "... 19500000\n",
      "... 19600000\n",
      "... 19700000\n",
      "... 19800000\n",
      "... 19900000\n",
      "... 20000000\n",
      "... 20100000\n",
      "... 20200000\n",
      "... 20300000\n",
      "... 20400000\n",
      "... 20500000\n",
      "... 20600000\n",
      "... 20700000\n",
      "... 20800000\n",
      "... 20900000\n",
      "... 21000000\n",
      "... 21100000\n",
      "... 21200000\n",
      "... 21300000\n",
      "... 21400000\n",
      "... 21500000\n",
      "... 21600000\n",
      "... 21700000\n",
      "... 21800000\n",
      "... 21900000\n",
      "... 22000000\n",
      "... 22100000\n",
      "... 22200000\n",
      "... 22300000\n",
      "... 22400000\n",
      "... 22500000\n",
      "... 22600000\n",
      "... 22700000\n"
     ]
    }
   ],
   "source": [
    "assignments = {}\n",
    "\n",
    "xx = []\n",
    "\n",
    "for n, hashval in enumerate(idx.hashvals):\n",
    "    if n % 100000 == 0:\n",
    "        print('...', n)\n",
    "        #if n: break\n",
    "    idxlist = idx.hashval_to_idx[hashval]\n",
    "    \n",
    "    count = len(indexlist)\n",
    "    H = math.log(count, 2)\n",
    "    xx.append(dict(hashval=hashval, count=count, H=H))"
   ]
  },
  {
   "cell_type": "code",
   "execution_count": 13,
   "id": "b3063ae9",
   "metadata": {},
   "outputs": [],
   "source": [
    "genome_df = pd.DataFrame(xx)\n"
   ]
  },
  {
   "cell_type": "code",
   "execution_count": 17,
   "id": "1f376484",
   "metadata": {},
   "outputs": [
    {
     "data": {
      "text/plain": [
       "1    15378449\n",
       "2     3407595\n",
       "3     1337246\n",
       "4      694687\n",
       "5      419002\n",
       "Name: count, dtype: int64"
      ]
     },
     "execution_count": 17,
     "metadata": {},
     "output_type": "execute_result"
    }
   ],
   "source": [
    "counts_dist = genome_df['count'].value_counts()[:5]\n",
    "counts_dist"
   ]
  },
  {
   "cell_type": "code",
   "execution_count": 18,
   "id": "0c2ffdfa",
   "metadata": {},
   "outputs": [
    {
     "name": "stdout",
     "output_type": "stream",
     "text": [
      "67.47240262745959\n",
      "14.950702885012534\n",
      "5.867119663625364\n",
      "3.0479147125995616\n",
      "1.8383564978308815\n"
     ]
    }
   ],
   "source": [
    "for i in counts_dist:\n",
    "    print(i / len(genome_df) * 100)"
   ]
  },
  {
   "cell_type": "code",
   "execution_count": 20,
   "id": "d1473163",
   "metadata": {},
   "outputs": [
    {
     "data": {
      "text/plain": [
       "1974229"
      ]
     },
     "execution_count": 20,
     "metadata": {},
     "output_type": "execute_result"
    }
   ],
   "source": [
    "len(genome_df[genome_df['count'] >= 5])"
   ]
  },
  {
   "cell_type": "code",
   "execution_count": 21,
   "id": "1d5876ec",
   "metadata": {},
   "outputs": [
    {
     "data": {
      "text/plain": [
       "8.66186011130296"
      ]
     },
     "execution_count": 21,
     "metadata": {},
     "output_type": "execute_result"
    }
   ],
   "source": [
    "1974229 / len(genome_df) * 100\n"
   ]
  },
  {
   "cell_type": "code",
   "execution_count": 8,
   "id": "df271355",
   "metadata": {},
   "outputs": [
    {
     "name": "stdout",
     "output_type": "stream",
     "text": [
      "15378449 of 22792206 hashvals (67.5%) are perfectly informative at genome level!\n"
     ]
    }
   ],
   "source": [
    "num_h0 = len(genome_df[genome_df.H == 0.0])\n",
    "nonzero_df = genome_df[genome_df.H > 0.0]\n",
    "total = len(genome_df)\n",
    "\n",
    "print(f\"{num_h0} of {total} hashvals ({num_h0 / total * 100:.1f}%) are perfectly informative at genome level!\")"
   ]
  },
  {
   "cell_type": "code",
   "execution_count": 9,
   "id": "3ed7c213",
   "metadata": {},
   "outputs": [
    {
     "data": {
      "text/plain": [
       "7413757"
      ]
     },
     "execution_count": 9,
     "metadata": {},
     "output_type": "execute_result"
    }
   ],
   "source": [
    "len(nonzero_df)"
   ]
  },
  {
   "cell_type": "markdown",
   "id": "0e7a5945",
   "metadata": {},
   "source": [
    "## can we look at the actual H values to figure stuff out?\n",
    "\n",
    "H <= 1 implies that there are two or fewer taxonomic results."
   ]
  },
  {
   "cell_type": "code",
   "execution_count": 10,
   "id": "43b12df1",
   "metadata": {},
   "outputs": [],
   "source": [
    "%matplotlib inline\n",
    "import matplotlib.pyplot as plt\n"
   ]
  },
  {
   "cell_type": "code",
   "execution_count": 11,
   "id": "66141f44",
   "metadata": {},
   "outputs": [
    {
     "data": {
      "text/plain": [
       "(0.0, 5.0)"
      ]
     },
     "execution_count": 11,
     "metadata": {},
     "output_type": "execute_result"
    },
    {
     "data": {
      "image/png": "[encoded data removed]",
      "text/plain": [
       "<Figure size 720x576 with 1 Axes>"
      ]
     },
     "metadata": {
      "needs_background": "light"
     },
     "output_type": "display_data"
    }
   ],
   "source": [
    "fig, ax = plt.subplots(figsize=(10, 8))\n",
    "\n",
    "ax.hist(nonzero_df.H, bins=100)\n",
    "ax.set_xlim(0, 5)"
   ]
  },
  {
   "cell_type": "code",
   "execution_count": 22,
   "id": "6895e946",
   "metadata": {},
   "outputs": [
    {
     "name": "stdout",
     "output_type": "stream",
     "text": [
      "1156\n",
      "10.17492568250068\n"
     ]
    }
   ],
   "source": [
    "hashval = next(iter(nonzero_df.hashval))\n",
    "\n",
    "genomes = idx.hashval_to_idx[hashval]\n",
    "print(len(genomes))\n",
    "\n",
    "print(math.log(len(genomes), 2))"
   ]
  },
  {
   "cell_type": "code",
   "execution_count": 23,
   "id": "fa934184",
   "metadata": {},
   "outputs": [
    {
     "data": {
      "text/plain": [
       "0.000000    15378449\n",
       "1.000000     3407595\n",
       "1.584963     1337246\n",
       "2.000000      694687\n",
       "2.321928      419002\n",
       "2.584963      272151\n",
       "2.807355      197502\n",
       "3.000000      139748\n",
       "3.169925      111348\n",
       "3.321928       85806\n",
       "3.459432       68983\n",
       "3.584963       56921\n",
       "3.700440       50006\n",
       "3.807355       43380\n",
       "3.906891       35408\n",
       "4.000000       32935\n",
       "4.087463       27969\n",
       "4.169925       25532\n",
       "4.247928       21222\n",
       "4.321928       18620\n",
       "4.392317       16282\n",
       "4.459432       15221\n",
       "4.523562       13723\n",
       "4.584963       13425\n",
       "4.643856       12274\n",
       "4.700440       11826\n",
       "4.754888       10144\n",
       "4.807355        9114\n",
       "4.857981        8784\n",
       "4.954196        7865\n",
       "4.906891        7765\n",
       "5.000000        7410\n",
       "Name: H, dtype: int64"
      ]
     },
     "execution_count": 23,
     "metadata": {},
     "output_type": "execute_result"
    }
   ],
   "source": [
    "genome_df['H'].value_counts()[:5]\n"
   ]
  },
  {
   "cell_type": "code",
   "execution_count": null,
   "id": "401d2128",
   "metadata": {},
   "outputs": [],
   "source": []
  }
 ],
 "metadata": {
  "kernelspec": {
   "display_name": "py38arm",
   "language": "python",
   "name": "py38arm"
  },
  "language_info": {
   "codemirror_mode": {
    "name": "ipython",
    "version": 3
   },
   "file_extension": ".py",
   "mimetype": "text/x-python",
   "name": "python",
   "nbconvert_exporter": "python",
   "pygments_lexer": "ipython3",
   "version": "3.8.13"
  }
 },
 "nbformat": 4,
 "nbformat_minor": 5
}
