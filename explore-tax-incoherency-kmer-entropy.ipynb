{
 "cells": [
  {
   "cell_type": "markdown",
   "id": "1d8b73b2",
   "metadata": {},
   "source": [
    "# Exploring taxonomic incoherence of GTDB"
   ]
  },
  {
   "cell_type": "code",
   "execution_count": 14,
   "id": "f5a48eb6",
   "metadata": {},
   "outputs": [],
   "source": [
    "import sourmash\n",
    "from sourmash.lca import lca_utils\n",
    "from collections import defaultdict, Counter\n",
    "import math\n",
    "import pandas as pd"
   ]
  },
  {
   "cell_type": "code",
   "execution_count": 2,
   "id": "abca0ba1",
   "metadata": {},
   "outputs": [],
   "source": [
    "idx = sourmash.load_file_as_index('gtdb-rs207.genomic.k31.sqldb')"
   ]
  },
  {
   "cell_type": "code",
   "execution_count": 3,
   "id": "6ba6fa19",
   "metadata": {},
   "outputs": [
    {
     "data": {
      "text/plain": [
       "<sourmash.index.sqlite_index.LCA_SqliteDatabase at 0x104810f10>"
      ]
     },
     "execution_count": 3,
     "metadata": {},
     "output_type": "execute_result"
    }
   ],
   "source": [
    "idx"
   ]
  },
  {
   "cell_type": "code",
   "execution_count": 78,
   "id": "04e34d13",
   "metadata": {},
   "outputs": [
    {
     "name": "stdout",
     "output_type": "stream",
     "text": [
      "317542\n"
     ]
    }
   ],
   "source": [
    "print(len(idx))"
   ]
  },
  {
   "cell_type": "code",
   "execution_count": 33,
   "id": "87671f60",
   "metadata": {},
   "outputs": [],
   "source": [
    "def calc_entropy(lineages, *, rank='species'):\n",
    "    cnt = Counter()\n",
    "    for lin in lineages:\n",
    "        while lin[-1].rank != rank:\n",
    "            lin = lin[:-1]\n",
    "        cnt[lin] += 1\n",
    "        \n",
    "    total = sum(cnt.values())\n",
    "    H = 0\n",
    "    for v in cnt.values():\n",
    "        p = v / total\n",
    "        H -= p * math.log(p, 2)\n",
    "        \n",
    "    return H"
   ]
  },
  {
   "cell_type": "code",
   "execution_count": 21,
   "id": "7e109f9c",
   "metadata": {},
   "outputs": [
    {
     "name": "stdout",
     "output_type": "stream",
     "text": [
      "... 0\n",
      "... 100000\n",
      "... 200000\n",
      "... 300000\n",
      "... 400000\n",
      "... 500000\n",
      "... 600000\n",
      "... 700000\n",
      "... 800000\n",
      "... 900000\n",
      "... 1000000\n",
      "... 1100000\n",
      "... 1200000\n",
      "... 1300000\n",
      "... 1400000\n",
      "... 1500000\n",
      "... 1600000\n",
      "... 1700000\n",
      "... 1800000\n",
      "... 1900000\n",
      "... 2000000\n",
      "... 2100000\n",
      "... 2200000\n",
      "... 2300000\n",
      "... 2400000\n",
      "... 2500000\n",
      "... 2600000\n",
      "... 2700000\n",
      "... 2800000\n",
      "... 2900000\n",
      "... 3000000\n",
      "... 3100000\n",
      "... 3200000\n",
      "... 3300000\n",
      "... 3400000\n",
      "... 3500000\n",
      "... 3600000\n",
      "... 3700000\n",
      "... 3800000\n",
      "... 3900000\n",
      "... 4000000\n",
      "... 4100000\n",
      "... 4200000\n",
      "... 4300000\n",
      "... 4400000\n",
      "... 4500000\n",
      "... 4600000\n",
      "... 4700000\n",
      "... 4800000\n",
      "... 4900000\n",
      "... 5000000\n",
      "... 5100000\n",
      "... 5200000\n",
      "... 5300000\n",
      "... 5400000\n",
      "... 5500000\n",
      "... 5600000\n",
      "... 5700000\n",
      "... 5800000\n",
      "... 5900000\n",
      "... 6000000\n",
      "... 6100000\n",
      "... 6200000\n",
      "... 6300000\n",
      "... 6400000\n",
      "... 6500000\n",
      "... 6600000\n",
      "... 6700000\n",
      "... 6800000\n",
      "... 6900000\n",
      "... 7000000\n",
      "... 7100000\n",
      "... 7200000\n",
      "... 7300000\n",
      "... 7400000\n",
      "... 7500000\n",
      "... 7600000\n",
      "... 7700000\n",
      "... 7800000\n",
      "... 7900000\n",
      "... 8000000\n",
      "... 8100000\n",
      "... 8200000\n",
      "... 8300000\n",
      "... 8400000\n",
      "... 8500000\n",
      "... 8600000\n",
      "... 8700000\n",
      "... 8800000\n",
      "... 8900000\n",
      "... 9000000\n",
      "... 9100000\n",
      "... 9200000\n",
      "... 9300000\n",
      "... 9400000\n",
      "... 9500000\n",
      "... 9600000\n",
      "... 9700000\n",
      "... 9800000\n",
      "... 9900000\n",
      "... 10000000\n",
      "... 10100000\n",
      "... 10200000\n",
      "... 10300000\n",
      "... 10400000\n",
      "... 10500000\n",
      "... 10600000\n",
      "... 10700000\n",
      "... 10800000\n",
      "... 10900000\n",
      "... 11000000\n",
      "... 11100000\n",
      "... 11200000\n",
      "... 11300000\n",
      "... 11400000\n",
      "... 11500000\n",
      "... 11600000\n",
      "... 11700000\n",
      "... 11800000\n",
      "... 11900000\n",
      "... 12000000\n",
      "... 12100000\n",
      "... 12200000\n",
      "... 12300000\n",
      "... 12400000\n",
      "... 12500000\n",
      "... 12600000\n",
      "... 12700000\n",
      "... 12800000\n",
      "... 12900000\n",
      "... 13000000\n",
      "... 13100000\n",
      "... 13200000\n",
      "... 13300000\n",
      "... 13400000\n",
      "... 13500000\n",
      "... 13600000\n",
      "... 13700000\n",
      "... 13800000\n",
      "... 13900000\n",
      "... 14000000\n",
      "... 14100000\n",
      "... 14200000\n",
      "... 14300000\n",
      "... 14400000\n",
      "... 14500000\n",
      "... 14600000\n",
      "... 14700000\n",
      "... 14800000\n",
      "... 14900000\n",
      "... 15000000\n",
      "... 15100000\n",
      "... 15200000\n",
      "... 15300000\n",
      "... 15400000\n",
      "... 15500000\n",
      "... 15600000\n",
      "... 15700000\n",
      "... 15800000\n",
      "... 15900000\n",
      "... 16000000\n",
      "... 16100000\n",
      "... 16200000\n",
      "... 16300000\n",
      "... 16400000\n",
      "... 16500000\n",
      "... 16600000\n",
      "... 16700000\n",
      "... 16800000\n",
      "... 16900000\n",
      "... 17000000\n",
      "... 17100000\n",
      "... 17200000\n",
      "... 17300000\n",
      "... 17400000\n",
      "... 17500000\n",
      "... 17600000\n",
      "... 17700000\n",
      "... 17800000\n",
      "... 17900000\n",
      "... 18000000\n",
      "... 18100000\n",
      "... 18200000\n",
      "... 18300000\n",
      "... 18400000\n",
      "... 18500000\n",
      "... 18600000\n",
      "... 18700000\n",
      "... 18800000\n",
      "... 18900000\n",
      "... 19000000\n",
      "... 19100000\n",
      "... 19200000\n",
      "... 19300000\n",
      "... 19400000\n",
      "... 19500000\n",
      "... 19600000\n",
      "... 19700000\n",
      "... 19800000\n",
      "... 19900000\n",
      "... 20000000\n",
      "... 20100000\n",
      "... 20200000\n",
      "... 20300000\n",
      "... 20400000\n",
      "... 20500000\n",
      "... 20600000\n",
      "... 20700000\n",
      "... 20800000\n",
      "... 20900000\n",
      "... 21000000\n",
      "... 21100000\n",
      "... 21200000\n",
      "... 21300000\n",
      "... 21400000\n",
      "... 21500000\n",
      "... 21600000\n",
      "... 21700000\n",
      "... 21800000\n",
      "... 21900000\n",
      "... 22000000\n",
      "... 22100000\n",
      "... 22200000\n",
      "... 22300000\n",
      "... 22400000\n",
      "... 22500000\n",
      "... 22600000\n",
      "... 22700000\n"
     ]
    }
   ],
   "source": [
    "assignments = {}\n",
    "\n",
    "xx = []\n",
    "\n",
    "for n, hashval in enumerate(idx.hashvals):\n",
    "    if n % 100000 == 0:\n",
    "        print('...', n)\n",
    "    lineages = idx.get_lineage_assignments(hashval)\n",
    "    cnt = Counter(lineages)\n",
    "    #print(cnt, sum(cnt.values()))\n",
    "    \n",
    "    total = sum(cnt.values())\n",
    "    H = 0\n",
    "    for v in cnt.values():\n",
    "        p = v / total\n",
    "        H -= p * math.log(p, 2)\n",
    "   \n",
    "    xx.append(dict(hashval=hashval, H=H))"
   ]
  },
  {
   "cell_type": "code",
   "execution_count": 35,
   "id": "b0a06fe8",
   "metadata": {},
   "outputs": [],
   "source": [
    "species_df = pd.DataFrame(xx)\n"
   ]
  },
  {
   "cell_type": "code",
   "execution_count": 36,
   "id": "df271355",
   "metadata": {},
   "outputs": [
    {
     "name": "stdout",
     "output_type": "stream",
     "text": [
      "21150287 of 22792206 hashvals (92.8%) are perfectly informative at species level!\n"
     ]
    }
   ],
   "source": [
    "num_h0 = len(species_df[species_df.H == 0.0])\n",
    "nonzero_df = species_df[species_df.H > 0.0]\n",
    "total = len(species_df)\n",
    "\n",
    "print(f\"{num_h0} of {total} hashvals ({num_h0 / total * 100:.1f}%) are perfectly informative at species level!\")"
   ]
  },
  {
   "cell_type": "code",
   "execution_count": 77,
   "id": "ac3bbc0a",
   "metadata": {},
   "outputs": [
    {
     "data": {
      "text/plain": [
       "1641919"
      ]
     },
     "execution_count": 77,
     "metadata": {},
     "output_type": "execute_result"
    }
   ],
   "source": [
    "len(nonzero_df)"
   ]
  },
  {
   "cell_type": "code",
   "execution_count": 38,
   "id": "55ba7712",
   "metadata": {},
   "outputs": [],
   "source": [
    "hashvals = set(nonzero_df.hashval)"
   ]
  },
  {
   "cell_type": "code",
   "execution_count": 39,
   "id": "4085475d",
   "metadata": {},
   "outputs": [
    {
     "data": {
      "text/plain": [
       "1641919"
      ]
     },
     "execution_count": 39,
     "metadata": {},
     "output_type": "execute_result"
    }
   ],
   "source": [
    "len(hashvals)"
   ]
  },
  {
   "cell_type": "code",
   "execution_count": 46,
   "id": "6fbef8e7",
   "metadata": {},
   "outputs": [
    {
     "name": "stdout",
     "output_type": "stream",
     "text": [
      "... 0\n",
      "... 100000\n",
      "... 200000\n",
      "... 300000\n",
      "... 400000\n",
      "... 500000\n",
      "... 600000\n",
      "... 700000\n",
      "... 800000\n",
      "... 900000\n",
      "... 1000000\n",
      "... 1100000\n",
      "... 1200000\n",
      "... 1300000\n",
      "... 1400000\n",
      "... 1500000\n",
      "... 1600000\n"
     ]
    }
   ],
   "source": [
    "zz = []\n",
    "for n, hashval in enumerate(hashvals):\n",
    "    if n % 100000 == 0:\n",
    "        print('...', n)\n",
    "        #if n > 0:        break\n",
    "    lineages = idx.get_lineage_assignments(hashval)\n",
    "    \n",
    "    H = calc_entropy(lineages, rank='genus')\n",
    "    \n",
    "    zz.append(dict(hashval=hashval, H=H))"
   ]
  },
  {
   "cell_type": "code",
   "execution_count": 50,
   "id": "399e5d9b",
   "metadata": {},
   "outputs": [
    {
     "name": "stdout",
     "output_type": "stream",
     "text": [
      "1262281 of 1641919 hashvals (76.9%) are perfectly informative at genus level!\n"
     ]
    }
   ],
   "source": [
    "genus_df = pd.DataFrame(zz)\n",
    "\n",
    "genus_num_h0 = len(genus_df[genus_df.H == 0.0])\n",
    "genus_nonzero_df = genus_df[genus_df.H > 0.0]\n",
    "genus_total = len(genus_df)\n",
    "\n",
    "print(f\"{genus_num_h0} of {genus_total} hashvals ({genus_num_h0 / genus_total * 100:.1f}%) are perfectly informative at genus level!\")"
   ]
  },
  {
   "cell_type": "code",
   "execution_count": 51,
   "id": "4ddbcdf1",
   "metadata": {},
   "outputs": [
    {
     "data": {
      "text/plain": [
       "379638"
      ]
     },
     "execution_count": 51,
     "metadata": {},
     "output_type": "execute_result"
    }
   ],
   "source": [
    "len(genus_nonzero_df)"
   ]
  },
  {
   "cell_type": "code",
   "execution_count": 52,
   "id": "996deb68",
   "metadata": {},
   "outputs": [
    {
     "data": {
      "text/plain": [
       "1641919"
      ]
     },
     "execution_count": 52,
     "metadata": {},
     "output_type": "execute_result"
    }
   ],
   "source": [
    "1262281 + 379638"
   ]
  },
  {
   "cell_type": "code",
   "execution_count": 53,
   "id": "53ab33ea",
   "metadata": {},
   "outputs": [
    {
     "data": {
      "text/plain": [
       "0.016656483361022625"
      ]
     },
     "execution_count": 53,
     "metadata": {},
     "output_type": "execute_result"
    }
   ],
   "source": [
    "379638 / 22792206"
   ]
  },
  {
   "cell_type": "code",
   "execution_count": 55,
   "id": "13b25b8a",
   "metadata": {},
   "outputs": [
    {
     "name": "stdout",
     "output_type": "stream",
     "text": [
      "... 0\n",
      "... 100000\n",
      "... 200000\n",
      "... 300000\n"
     ]
    }
   ],
   "source": [
    "zz2 = []\n",
    "for n, hashval in enumerate(genus_nonzero_df.hashval):\n",
    "    if n % 100000 == 0:\n",
    "        print('...', n)\n",
    "        #if n > 0:        break\n",
    "    lineages = idx.get_lineage_assignments(hashval)\n",
    "    \n",
    "    H = calc_entropy(lineages, rank='family')\n",
    "    \n",
    "    zz2.append(dict(hashval=hashval, H=H))"
   ]
  },
  {
   "cell_type": "code",
   "execution_count": 59,
   "id": "9db030f6",
   "metadata": {},
   "outputs": [
    {
     "name": "stdout",
     "output_type": "stream",
     "text": [
      "170249 of 379638 hashvals (44.8%) are perfectly informative at family level!\n"
     ]
    }
   ],
   "source": [
    "family_df = pd.DataFrame(zz2)\n",
    "\n",
    "family_num_h0 = len(family_df[family_df.H == 0.0])\n",
    "family_nonzero_df = family_df[family_df.H > 0.0]\n",
    "family_total = len(family_df)\n",
    "\n",
    "print(f\"{family_num_h0} of {family_total} hashvals ({family_num_h0 / family_total * 100:.1f}%) are perfectly informative at family level!\")"
   ]
  },
  {
   "cell_type": "code",
   "execution_count": 60,
   "id": "d36efb78",
   "metadata": {},
   "outputs": [
    {
     "data": {
      "text/plain": [
       "209389"
      ]
     },
     "execution_count": 60,
     "metadata": {},
     "output_type": "execute_result"
    }
   ],
   "source": [
    "len(family_nonzero_df)"
   ]
  },
  {
   "cell_type": "code",
   "execution_count": 61,
   "id": "81a8183d",
   "metadata": {},
   "outputs": [
    {
     "data": {
      "text/plain": [
       "0.00918686852865405"
      ]
     },
     "execution_count": 61,
     "metadata": {},
     "output_type": "execute_result"
    }
   ],
   "source": [
    "209389 / 22792206"
   ]
  },
  {
   "cell_type": "markdown",
   "id": "c37a78ef",
   "metadata": {},
   "source": [
    "## can we look at the actual H values to figure stuff out?\n",
    "\n",
    "H <= 1 implies that there are two or fewer taxonomic results."
   ]
  },
  {
   "cell_type": "code",
   "execution_count": 62,
   "id": "62201602",
   "metadata": {},
   "outputs": [],
   "source": [
    "%matplotlib inline\n",
    "import matplotlib.pyplot as plt\n"
   ]
  },
  {
   "cell_type": "code",
   "execution_count": 63,
   "id": "49bea5c6",
   "metadata": {},
   "outputs": [
    {
     "data": {
      "text/plain": [
       "(array([6.8900e+03, 3.2840e+03, 3.0090e+03, 2.8280e+03, 3.2350e+03,\n",
       "        3.0950e+03, 3.3750e+03, 4.7940e+03, 2.5770e+03, 6.1640e+03,\n",
       "        4.7820e+03, 6.6910e+03, 1.0300e+03, 9.7620e+03, 1.5141e+04,\n",
       "        2.1400e+03, 3.1497e+04, 5.4490e+03, 6.3683e+04, 1.0260e+03,\n",
       "        1.2270e+03, 5.4300e+02, 1.6940e+03, 1.0400e+03, 2.7100e+03,\n",
       "        7.5500e+02, 1.5220e+03, 4.5880e+03, 4.8060e+03, 4.8900e+02,\n",
       "        6.3800e+02, 6.5900e+02, 7.4900e+02, 7.1200e+02, 1.3490e+03,\n",
       "        4.1700e+02, 1.0020e+03, 2.7300e+02, 4.7000e+02, 2.8200e+02,\n",
       "        5.3200e+02, 3.2600e+02, 1.8500e+02, 2.5200e+02, 1.6100e+02,\n",
       "        2.5800e+02, 1.7600e+02, 1.2500e+02, 9.2000e+01, 1.3900e+02,\n",
       "        8.9000e+01, 9.5000e+01, 8.5000e+01, 6.6000e+01, 5.6000e+01,\n",
       "        5.0000e+01, 2.7000e+01, 2.9000e+01, 3.0000e+01, 2.3000e+01,\n",
       "        2.7000e+01, 3.2000e+01, 2.2000e+01, 1.2000e+01, 1.3000e+01,\n",
       "        1.8000e+01, 9.0000e+00, 1.1000e+01, 1.2000e+01, 8.0000e+00,\n",
       "        8.0000e+00, 3.0000e+00, 3.0000e+00, 3.0000e+00, 6.0000e+00,\n",
       "        5.0000e+00, 3.0000e+00, 6.0000e+00, 1.0000e+00, 4.0000e+00,\n",
       "        0.0000e+00, 1.0000e+00, 0.0000e+00, 0.0000e+00, 0.0000e+00,\n",
       "        4.0000e+00, 1.0000e+00, 2.0000e+00, 0.0000e+00, 0.0000e+00,\n",
       "        0.0000e+00, 0.0000e+00, 0.0000e+00, 0.0000e+00, 0.0000e+00,\n",
       "        0.0000e+00, 0.0000e+00, 0.0000e+00, 1.0000e+00, 1.0000e+00]),\n",
       " array([5.63141699e-04, 5.59190674e-02, 1.11274993e-01, 1.66630919e-01,\n",
       "        2.21986845e-01, 2.77342770e-01, 3.32698696e-01, 3.88054622e-01,\n",
       "        4.43410548e-01, 4.98766473e-01, 5.54122399e-01, 6.09478325e-01,\n",
       "        6.64834250e-01, 7.20190176e-01, 7.75546102e-01, 8.30902028e-01,\n",
       "        8.86257953e-01, 9.41613879e-01, 9.96969805e-01, 1.05232573e+00,\n",
       "        1.10768166e+00, 1.16303758e+00, 1.21839351e+00, 1.27374943e+00,\n",
       "        1.32910536e+00, 1.38446128e+00, 1.43981721e+00, 1.49517314e+00,\n",
       "        1.55052906e+00, 1.60588499e+00, 1.66124091e+00, 1.71659684e+00,\n",
       "        1.77195277e+00, 1.82730869e+00, 1.88266462e+00, 1.93802054e+00,\n",
       "        1.99337647e+00, 2.04873239e+00, 2.10408832e+00, 2.15944425e+00,\n",
       "        2.21480017e+00, 2.27015610e+00, 2.32551202e+00, 2.38086795e+00,\n",
       "        2.43622387e+00, 2.49157980e+00, 2.54693573e+00, 2.60229165e+00,\n",
       "        2.65764758e+00, 2.71300350e+00, 2.76835943e+00, 2.82371535e+00,\n",
       "        2.87907128e+00, 2.93442721e+00, 2.98978313e+00, 3.04513906e+00,\n",
       "        3.10049498e+00, 3.15585091e+00, 3.21120683e+00, 3.26656276e+00,\n",
       "        3.32191869e+00, 3.37727461e+00, 3.43263054e+00, 3.48798646e+00,\n",
       "        3.54334239e+00, 3.59869831e+00, 3.65405424e+00, 3.70941017e+00,\n",
       "        3.76476609e+00, 3.82012202e+00, 3.87547794e+00, 3.93083387e+00,\n",
       "        3.98618979e+00, 4.04154572e+00, 4.09690165e+00, 4.15225757e+00,\n",
       "        4.20761350e+00, 4.26296942e+00, 4.31832535e+00, 4.37368127e+00,\n",
       "        4.42903720e+00, 4.48439313e+00, 4.53974905e+00, 4.59510498e+00,\n",
       "        4.65046090e+00, 4.70581683e+00, 4.76117275e+00, 4.81652868e+00,\n",
       "        4.87188461e+00, 4.92724053e+00, 4.98259646e+00, 5.03795238e+00,\n",
       "        5.09330831e+00, 5.14866423e+00, 5.20402016e+00, 5.25937609e+00,\n",
       "        5.31473201e+00, 5.37008794e+00, 5.42544386e+00, 5.48079979e+00,\n",
       "        5.53615571e+00]),\n",
       " <BarContainer object of 100 artists>)"
      ]
     },
     "execution_count": 63,
     "metadata": {},
     "output_type": "execute_result"
    },
    {
     "data": {
      "image/png": "[encoded data removed]",
      "text/plain": [
       "<Figure size 720x576 with 1 Axes>"
      ]
     },
     "metadata": {
      "needs_background": "light"
     },
     "output_type": "display_data"
    }
   ],
   "source": [
    "fig, ax = plt.subplots(figsize=(10, 8))\n",
    "\n",
    "ax.hist(family_nonzero_df.H, bins=100)"
   ]
  },
  {
   "cell_type": "markdown",
   "id": "df60cd95",
   "metadata": {},
   "source": []
  },
  {
   "cell_type": "code",
   "execution_count": 70,
   "id": "60cc3906",
   "metadata": {},
   "outputs": [],
   "source": [
    "# detect perfectly balanced hashvals = split between two families.\n",
    "df_H1 = family_nonzero_df[family_nonzero_df.H == 1.0]"
   ]
  },
  {
   "cell_type": "code",
   "execution_count": 69,
   "id": "0fa55149",
   "metadata": {},
   "outputs": [
    {
     "data": {
      "text/plain": [
       "[(LineagePair(rank='superkingdom', name='d__Bacteria'),\n",
       "  LineagePair(rank='phylum', name='p__Actinobacteriota'),\n",
       "  LineagePair(rank='class', name='c__Thermoleophilia'),\n",
       "  LineagePair(rank='order', name='o__Gaiellales'),\n",
       "  LineagePair(rank='family', name='f__Gaiellaceae'),\n",
       "  LineagePair(rank='genus', name='g__PALSA-600'),\n",
       "  LineagePair(rank='species', name='s__PALSA-600 sp013821525')),\n",
       " (LineagePair(rank='superkingdom', name='d__Bacteria'),\n",
       "  LineagePair(rank='phylum', name='p__Gemmatimonadota'),\n",
       "  LineagePair(rank='class', name='c__Gemmatimonadetes'),\n",
       "  LineagePair(rank='order', name='o__Gemmatimonadales'),\n",
       "  LineagePair(rank='family', name='f__Gemmatimonadaceae'),\n",
       "  LineagePair(rank='genus', name='g__FEN-1250'),\n",
       "  LineagePair(rank='species', name='s__FEN-1250 sp013697785'))]"
      ]
     },
     "execution_count": 69,
     "metadata": {},
     "output_type": "execute_result"
    }
   ],
   "source": [
    "hashval = next(iter(df_H1.hashval))\n",
    "lineages = idx.get_lineage_assignments(hashval)\n",
    "lineages"
   ]
  },
  {
   "cell_type": "code",
   "execution_count": 71,
   "id": "e32bb744",
   "metadata": {},
   "outputs": [
    {
     "data": {
      "text/plain": [
       "'2.09389e+09'"
      ]
     },
     "execution_count": 71,
     "metadata": {},
     "output_type": "execute_result"
    }
   ],
   "source": [
    "f\"{209389 * 10000:g}\""
   ]
  },
  {
   "cell_type": "markdown",
   "id": "64ef4c6f",
   "metadata": {},
   "source": [
    "## can we track down biggest offending genomes?"
   ]
  },
  {
   "cell_type": "code",
   "execution_count": 72,
   "id": "3f41921e",
   "metadata": {},
   "outputs": [
    {
     "name": "stdout",
     "output_type": "stream",
     "text": [
      ".... 0\n",
      ".... 10000\n",
      ".... 20000\n",
      ".... 30000\n",
      ".... 40000\n",
      ".... 50000\n",
      ".... 60000\n",
      ".... 70000\n",
      ".... 80000\n",
      ".... 90000\n",
      ".... 100000\n",
      ".... 110000\n",
      ".... 120000\n",
      ".... 130000\n",
      ".... 140000\n",
      ".... 150000\n",
      ".... 160000\n",
      ".... 170000\n",
      ".... 180000\n",
      ".... 190000\n",
      ".... 200000\n"
     ]
    }
   ],
   "source": [
    "idx_count = Counter()\n",
    "for n, hashval in enumerate(family_nonzero_df.hashval):\n",
    "    if n % 10000 == 0:\n",
    "        print('....', n)\n",
    "    idx_count.update(idx.hashval_to_idx[hashval])\n"
   ]
  },
  {
   "cell_type": "code",
   "execution_count": 75,
   "id": "d7a17d2e",
   "metadata": {},
   "outputs": [
    {
     "data": {
      "text/plain": [
       "[(161751, 451),\n",
       " (130623, 423),\n",
       " (106404, 423),\n",
       " (16340, 422),\n",
       " (102799, 422),\n",
       " (74969, 421),\n",
       " (258379, 420),\n",
       " (57968, 419),\n",
       " (246075, 419),\n",
       " (1205, 418),\n",
       " (65470, 418),\n",
       " (20605, 417),\n",
       " (184464, 416),\n",
       " (290619, 415),\n",
       " (59191, 415),\n",
       " (126080, 415),\n",
       " (255618, 415),\n",
       " (141402, 413),\n",
       " (67112, 412),\n",
       " (299076, 412)]"
      ]
     },
     "execution_count": 75,
     "metadata": {},
     "output_type": "execute_result"
    }
   ],
   "source": [
    "idx_count.most_common()[:20]"
   ]
  },
  {
   "cell_type": "code",
   "execution_count": 76,
   "id": "2d715eca",
   "metadata": {},
   "outputs": [
    {
     "name": "stdout",
     "output_type": "stream",
     "text": [
      "GCA_001894475\n",
      "GCF_001374035\n",
      "GCF_002135965\n",
      "GCF_001374135\n",
      "GCF_018551555\n",
      "GCF_000794885\n",
      "GCF_001374095\n",
      "GCF_009600645\n",
      "GCF_000794905\n",
      "GCF_000478465\n"
     ]
    }
   ],
   "source": [
    "for (idx_val, count) in idx_count.most_common()[:10]:\n",
    "    print(idx.idx_to_ident[idx_val])"
   ]
  },
  {
   "cell_type": "markdown",
   "id": "c36d6d3e",
   "metadata": {},
   "source": [
    "## can we track down biggest offending genomes, mark 2\n",
    "\n",
    "tl;dr use gather"
   ]
  },
  {
   "cell_type": "code",
   "execution_count": 80,
   "id": "95a2735b",
   "metadata": {},
   "outputs": [
    {
     "name": "stdout",
     "output_type": "stream",
     "text": [
      "209389\n"
     ]
    }
   ],
   "source": [
    "print(len(family_nonzero_df))"
   ]
  },
  {
   "cell_type": "code",
   "execution_count": 89,
   "id": "1f9b743e",
   "metadata": {},
   "outputs": [
    {
     "name": "stdout",
     "output_type": "stream",
     "text": [
      "<sourmash.minhash.MinHash object at 0x5cb0852e0>\n",
      "209389\n"
     ]
    }
   ],
   "source": [
    "mh = next(iter(idx.signatures())).minhash.copy_and_clear()\n",
    "print(mh)\n",
    "\n",
    "mh.add_many(list(family_nonzero_df.hashval))\n",
    "print(len(mh))\n",
    "\n",
    "query_ss = sourmash.SourmashSignature(mh)\n",
    "with open('gtdb.family_confused.sig.gz', 'wb') as fp:\n",
    "    sourmash.save_signatures([query_ss], fp, compression=1)"
   ]
  },
  {
   "cell_type": "code",
   "execution_count": null,
   "id": "ee9b5584",
   "metadata": {},
   "outputs": [],
   "source": []
  }
 ],
 "metadata": {
  "kernelspec": {
   "display_name": "py38arm",
   "language": "python",
   "name": "py38arm"
  },
  "language_info": {
   "codemirror_mode": {
    "name": "ipython",
    "version": 3
   },
   "file_extension": ".py",
   "mimetype": "text/x-python",
   "name": "python",
   "nbconvert_exporter": "python",
   "pygments_lexer": "ipython3",
   "version": "3.8.13"
  }
 },
 "nbformat": 4,
 "nbformat_minor": 5
}
