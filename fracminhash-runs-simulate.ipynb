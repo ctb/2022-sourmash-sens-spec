{
 "cells": [
  {
   "cell_type": "markdown",
   "id": "ef1142bc",
   "metadata": {},
   "source": [
    "# Exploring upper bounds on k-mer differences based on hashes\n",
    "\n",
    "Equiv? How long a run is the run without a hash.\n",
    "\n"
   ]
  },
  {
   "cell_type": "code",
   "execution_count": 4,
   "id": "ddc4ee84",
   "metadata": {},
   "outputs": [],
   "source": [
    "import sourmash\n",
    "import random"
   ]
  },
  {
   "cell_type": "code",
   "execution_count": 44,
   "id": "21620659",
   "metadata": {},
   "outputs": [],
   "source": [
    "%matplotlib inline\n",
    "import matplotlib.pyplot as plt"
   ]
  },
  {
   "cell_type": "code",
   "execution_count": 37,
   "id": "d18dd979",
   "metadata": {},
   "outputs": [],
   "source": [
    "DNA = 'ATGC'\n",
    "\n",
    "def generate_kmers(ksize):\n",
    "    kmer = [ random.choice(DNA) for _ in range(ksize) ]\n",
    "    while 1:\n",
    "        random.shuffle(kmer)\n",
    "        yield \"\".join(kmer)"
   ]
  },
  {
   "cell_type": "code",
   "execution_count": null,
   "id": "6687e5ae",
   "metadata": {},
   "outputs": [],
   "source": [
    "KSIZE = 31\n",
    "SCALED = 100\n",
    "\n",
    "runlengths = []\n",
    "for i in range(int(100000)):\n",
    "    if i % 1000 == 0:\n",
    "        print('...', i)\n",
    "    run = 0\n",
    "    mh = sourmash.MinHash(n=0, ksize=KSIZE, scaled=SCALED)\n",
    "    it = iter(generate_kmers(KSIZE))\n",
    "    while not len(mh):\n",
    "        kmer = next(it)\n",
    "        mh.add_kmer(kmer)\n",
    "        run += 1\n",
    "    runlengths.append(run)\n",
    "\n",
    "#print(runlengths)"
   ]
  },
  {
   "cell_type": "code",
   "execution_count": 81,
   "id": "119ec444",
   "metadata": {},
   "outputs": [
    {
     "data": {
      "image/png": "[encoded data removed]",
      "text/plain": [
       "<Figure size 864x576 with 1 Axes>"
      ]
     },
     "metadata": {
      "needs_background": "light"
     },
     "output_type": "display_data"
    }
   ],
   "source": [
    "fig, ax = plt.subplots(figsize=(12, 8))\n",
    "\n",
    "_ = ax.hist(runlengths, bins=100, cumulative=True)"
   ]
  },
  {
   "cell_type": "code",
   "execution_count": 82,
   "id": "93ec1739",
   "metadata": {},
   "outputs": [
    {
     "data": {
      "image/png": "[encoded data removed]",
      "text/plain": [
       "<Figure size 864x576 with 1 Axes>"
      ]
     },
     "metadata": {
      "needs_background": "light"
     },
     "output_type": "display_data"
    }
   ],
   "source": [
    "fig, ax = plt.subplots(figsize=(12, 8))\n",
    "\n",
    "_ = ax.hist(runlengths, bins=100)"
   ]
  },
  {
   "cell_type": "code",
   "execution_count": 83,
   "id": "dc434a32",
   "metadata": {},
   "outputs": [
    {
     "data": {
      "text/plain": [
       "100.32255"
      ]
     },
     "execution_count": 83,
     "metadata": {},
     "output_type": "execute_result"
    }
   ],
   "source": [
    "numpy.mean(runlengths)"
   ]
  },
  {
   "cell_type": "code",
   "execution_count": 84,
   "id": "5ba79ddb",
   "metadata": {},
   "outputs": [
    {
     "data": {
      "text/plain": [
       "100.05102633905113"
      ]
     },
     "execution_count": 84,
     "metadata": {},
     "output_type": "execute_result"
    }
   ],
   "source": [
    "numpy.std(runlengths)"
   ]
  },
  {
   "cell_type": "markdown",
   "id": "b27f2ebf",
   "metadata": {},
   "source": [
    "## thinking out loud\n",
    "\n",
    "* two collections of k-mers of size N\n",
    "* all hashes in common at SCALED\n",
    "* what's the probability that they have no more than M different k-mers?\n",
    "\n",
    "Intuition is that as M approaches SCALED, p <= 0.5\n",
    "\n",
    "from poisson, as M => 5 x SCALED, p <= 0.9998 \n",
    "\n",
    "that is, 99.98% of genomes of size N will have fewer than 5 \\* SCALED k-mers different.\n",
    "\n",
    "but... this can't be correct, this is independent of N? should it be?\n",
    "\n",
    "yes, it only depends on SCALED? it's 1-the distribution above..."
   ]
  },
  {
   "cell_type": "code",
   "execution_count": 87,
   "id": "2d95f408",
   "metadata": {},
   "outputs": [],
   "source": [
    "N_BINS = 20\n",
    "n_notfound = [0] * N_BINS\n",
    "for run in runlengths:\n",
    "    for i in range(N_BINS):\n",
    "        if run <= (i+1)*SCALED:\n",
    "            n_notfound[i] += 1\n",
    "            \n",
    "for i in range(N_BINS):\n",
    "    n_notfound[i] /= len(runlengths)"
   ]
  },
  {
   "cell_type": "code",
   "execution_count": 88,
   "id": "bb14f5ba",
   "metadata": {},
   "outputs": [
    {
     "name": "stdout",
     "output_type": "stream",
     "text": [
      "in M=100 k-mers, p of finding at least one hash is: 63.43% - scaled=100\n",
      "in M=200 k-mers, p of finding at least one hash is: 86.51% - scaled=100\n",
      "in M=300 k-mers, p of finding at least one hash is: 95.11% - scaled=100\n",
      "in M=400 k-mers, p of finding at least one hash is: 98.18% - scaled=100\n",
      "in M=500 k-mers, p of finding at least one hash is: 99.32% - scaled=100\n",
      "in M=600 k-mers, p of finding at least one hash is: 99.72% - scaled=100\n",
      "in M=700 k-mers, p of finding at least one hash is: 99.90% - scaled=100\n",
      "in M=800 k-mers, p of finding at least one hash is: 99.96% - scaled=100\n",
      "in M=900 k-mers, p of finding at least one hash is: 99.98% - scaled=100\n",
      "in M=1000 k-mers, p of finding at least one hash is: 99.99% - scaled=100\n",
      "in M=1100 k-mers, p of finding at least one hash is: 100.00% - scaled=100\n",
      "in M=1200 k-mers, p of finding at least one hash is: 100.00% - scaled=100\n",
      "in M=1300 k-mers, p of finding at least one hash is: 100.00% - scaled=100\n",
      "in M=1400 k-mers, p of finding at least one hash is: 100.00% - scaled=100\n",
      "in M=1500 k-mers, p of finding at least one hash is: 100.00% - scaled=100\n",
      "in M=1600 k-mers, p of finding at least one hash is: 100.00% - scaled=100\n",
      "in M=1700 k-mers, p of finding at least one hash is: 100.00% - scaled=100\n",
      "in M=1800 k-mers, p of finding at least one hash is: 100.00% - scaled=100\n",
      "in M=1900 k-mers, p of finding at least one hash is: 100.00% - scaled=100\n",
      "in M=2000 k-mers, p of finding at least one hash is: 100.00% - scaled=100\n"
     ]
    }
   ],
   "source": [
    "for i, val in enumerate(n_notfound):\n",
    "    print(f\"in M={(i+1) * SCALED} k-mers, p of finding at least one hash is: {val*100:.2f}% - scaled={SCALED}\")"
   ]
  },
  {
   "cell_type": "markdown",
   "id": "ff034cfa",
   "metadata": {},
   "source": [
    "## Using poisson as crosscheck"
   ]
  },
  {
   "cell_type": "code",
   "execution_count": 96,
   "id": "f5ec3537",
   "metadata": {},
   "outputs": [
    {
     "name": "stdout",
     "output_type": "stream",
     "text": [
      "M=100 k-mers - p of at least one hash is: 63.21% - scaled=100\n",
      "M=200 k-mers - p of at least one hash is: 86.47% - scaled=100\n",
      "M=300 k-mers - p of at least one hash is: 95.02% - scaled=100\n",
      "M=400 k-mers - p of at least one hash is: 98.17% - scaled=100\n",
      "M=500 k-mers - p of at least one hash is: 99.33% - scaled=100\n",
      "M=600 k-mers - p of at least one hash is: 99.75% - scaled=100\n",
      "M=700 k-mers - p of at least one hash is: 99.91% - scaled=100\n",
      "M=800 k-mers - p of at least one hash is: 99.97% - scaled=100\n",
      "M=900 k-mers - p of at least one hash is: 99.99% - scaled=100\n",
      "M=1000 k-mers - p of at least one hash is: 100.00% - scaled=100\n",
      "M=1100 k-mers - p of at least one hash is: 100.00% - scaled=100\n",
      "M=1200 k-mers - p of at least one hash is: 100.00% - scaled=100\n",
      "M=1300 k-mers - p of at least one hash is: 100.00% - scaled=100\n",
      "M=1400 k-mers - p of at least one hash is: 100.00% - scaled=100\n",
      "M=1500 k-mers - p of at least one hash is: 100.00% - scaled=100\n",
      "M=1600 k-mers - p of at least one hash is: 100.00% - scaled=100\n",
      "M=1700 k-mers - p of at least one hash is: 100.00% - scaled=100\n",
      "M=1800 k-mers - p of at least one hash is: 100.00% - scaled=100\n",
      "M=1900 k-mers - p of at least one hash is: 100.00% - scaled=100\n",
      "M=2000 k-mers - p of at least one hash is: 100.00% - scaled=100\n"
     ]
    }
   ],
   "source": [
    "import math\n",
    "for i in range(N_BINS):\n",
    "    i = i+1\n",
    "    print(f\"M={i*SCALED} k-mers - p of at least one hash is: {(1 - math.exp(-i))*100:.2f}% - scaled={SCALED}\")"
   ]
  },
  {
   "cell_type": "markdown",
   "id": "39efa738",
   "metadata": {},
   "source": [
    "## The theory\n",
    "\n",
    "the probability of seeing exactly 0 hashes in a run of M k-mers with a scaled of SCALED is:\n",
    "\n",
    "1 - the probability of seeing 0 hashes in a run of M k-mers with a scaled of SCALED,\n",
    "\n",
    "which is 1 - Poisson(k=0, lambda=M / scaled)\n",
    "\n",
    "which is 1 - e**(-M/scaled)\n",
    "\n",
    "or in Python:\n",
    "\n",
    "```\n",
    "1 - math.exp(- (M/scaled))\n",
    "```\n",
    "\n",
    "which (per notebook ;) matches the distribution pretty darned well.\n",
    "\n",
    "(the small deviations are either due to sampling statistics, or properties of murmurhash)"
   ]
  },
  {
   "cell_type": "markdown",
   "id": "69e239fd",
   "metadata": {},
   "source": [
    "## Fun concluding notes\n",
    "\n",
    "This distribution is dependent only on `M/scaled`, not `N` (size of genome).\n",
    "\n",
    "This means for typical microbial genome sizes N=5e6 and a scaled of SCALED, there is a convenient estimate of upper bound for fraction of genome that will be different at a given scaled if all hashes are the same.\n"
   ]
  },
  {
   "cell_type": "code",
   "execution_count": 133,
   "id": "1494b602",
   "metadata": {},
   "outputs": [
    {
     "name": "stdout",
     "output_type": "stream",
     "text": [
      "at scaled=100, ~0.0123% of 5e+06 bp genomes sharing all hashes are > ~0.02% different.\n",
      "at scaled=100, ~0.0001% of 5e+06 bp genomes sharing all hashes are > ~0.03% different.\n",
      "at scaled=100, ~0.0000% of 5e+06 bp genomes sharing all hashes are > ~0.04% different.\n",
      "at scaled=500, ~0.0123% of 5e+06 bp genomes sharing all hashes are > ~0.10% different.\n",
      "at scaled=500, ~0.0001% of 5e+06 bp genomes sharing all hashes are > ~0.15% different.\n",
      "at scaled=500, ~0.0000% of 5e+06 bp genomes sharing all hashes are > ~0.20% different.\n",
      "at scaled=1000, ~0.0123% of 5e+06 bp genomes sharing all hashes are > ~0.20% different.\n",
      "at scaled=1000, ~0.0001% of 5e+06 bp genomes sharing all hashes are > ~0.30% different.\n",
      "at scaled=1000, ~0.0000% of 5e+06 bp genomes sharing all hashes are > ~0.40% different.\n"
     ]
    }
   ],
   "source": [
    "# FIXME\n",
    "\n",
    "SCALED = 100\n",
    "N = 5e6\n",
    "\n",
    "for SCALED in (100, 500, 1000):\n",
    "    for i in (10, 15, 20):\n",
    "        M = i*SCALED\n",
    "        p = (math.exp(1 - i))\n",
    "        print(f\"at scaled={SCALED}, ~{(p)*100:.4f}% of {N:g} bp genomes sharing all hashes are > ~{(M/N)*100:.2f}% different.\")"
   ]
  },
  {
   "cell_type": "markdown",
   "id": "53d772ba",
   "metadata": {},
   "source": [
    "## let's rephrase\n",
    "\n",
    "a genome difference of < 1% for 99.9% of genomes with all hashes same =>\n",
    "\n",
    "N/SCALED hashes identical, whatever\n",
    "99% of genome the same => .01 * N the same => runlength of .01 * N k-mers without a hash \n",
    "\n",
    "here (p = 1 - math.exp(1 - (.01 * N / SCALED))"
   ]
  },
  {
   "cell_type": "markdown",
   "id": "23bbc967",
   "metadata": {},
   "source": [
    "so we want SCALED such that p =~ .001 = .01 * N / SCALED\n",
    "\n",
    "or \n",
    ".1 = N / scaled\n",
    "\n",
    "or \n",
    "\n",
    "scaled = 10 * N\n",
    "\n"
   ]
  },
  {
   "cell_type": "markdown",
   "id": "df83a92a",
   "metadata": {},
   "source": [
    "here (p = 1 - math.exp(1 - (.01 * N / SCALED))\n",
    "      \n",
    "      \n",
    "1 - p = math.exp(1 - (.01 * N / SCALED))\n",
    "\n",
    "math.log(1-p) = 1 - (.01 * N / SCALED)\n",
    "\n",
    "1 - math.log(1-p) = .01 * N / SCALED\n",
    "\n",
    "SCALED = .01 * N / (1 - math.log(1-p))\n",
    "      \n"
   ]
  },
  {
   "cell_type": "code",
   "execution_count": 147,
   "id": "0422c9dc",
   "metadata": {},
   "outputs": [
    {
     "data": {
      "text/plain": [
       "49950.02498334166"
      ]
     },
     "execution_count": 147,
     "metadata": {},
     "output_type": "execute_result"
    }
   ],
   "source": [
    ".01 * N / (1 - math.log(1 - .001))"
   ]
  },
  {
   "cell_type": "code",
   "execution_count": 151,
   "id": "a2c3d4fb",
   "metadata": {},
   "outputs": [
    {
     "name": "stdout",
     "output_type": "stream",
     "text": [
      "for genome size 5000, need scaled=50 to guarantee that 99.9% of genomes with all hashes same => < 1% different\n",
      "for genome size 50000, need scaled=500 to guarantee that 99.9% of genomes with all hashes same => < 1% different\n",
      "for genome size 500000, need scaled=4996 to guarantee that 99.9% of genomes with all hashes same => < 1% different\n",
      "for genome size 5e+06, need scaled=49951 to guarantee that 99.9% of genomes with all hashes same => < 1% different\n"
     ]
    }
   ],
   "source": [
    "for N in 5e3, 5e4, 5e5, 5e6:\n",
    "    N = int(N)\n",
    "    print(f\"for genome size {N:g}, need scaled={round(.01 * N / (1 - math.log(1 - .001)) + 0.5)} to guarantee that 99.9% of genomes with all hashes same => < 1% different\")"
   ]
  },
  {
   "cell_type": "markdown",
   "id": "7812be75",
   "metadata": {},
   "source": [
    "or ...\n",
    "\n",
    "for a given genome size N, need scaled = N/100 to guarantee that 99.9% of genomes with identical hashes are <1% different"
   ]
  },
  {
   "cell_type": "markdown",
   "id": "1ea3debb",
   "metadata": {},
   "source": [
    "or, back of napkin,\n",
    "\n",
    "for p = .001, want f=>.001; .1 * N/scaled = .001 => .01 * N / scaled = 1 => scaled = N / 100"
   ]
  },
  {
   "cell_type": "markdown",
   "id": "19bbd1d3",
   "metadata": {},
   "source": [
    "It also multiplies - for genome size 5e6 at a scaled of 5000, 99.9% of genomes with identical hashes are < 0.1% different.\n",
    "\n",
    "(that is, divide scaled by 10 => divide difference by 10)"
   ]
  },
  {
   "cell_type": "code",
   "execution_count": null,
   "id": "258c89f2",
   "metadata": {},
   "outputs": [],
   "source": []
  }
 ],
 "metadata": {
  "kernelspec": {
   "display_name": "py38arm",
   "language": "python",
   "name": "py38arm"
  },
  "language_info": {
   "codemirror_mode": {
    "name": "ipython",
    "version": 3
   },
   "file_extension": ".py",
   "mimetype": "text/x-python",
   "name": "python",
   "nbconvert_exporter": "python",
   "pygments_lexer": "ipython3",
   "version": "3.8.13"
  }
 },
 "nbformat": 4,
 "nbformat_minor": 5
}
