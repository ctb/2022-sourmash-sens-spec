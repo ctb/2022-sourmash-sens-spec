{
 "cells": [
  {
   "cell_type": "code",
   "execution_count": 1,
   "id": "f5a48eb6",
   "metadata": {},
   "outputs": [],
   "source": [
    "import sourmash\n",
    "from sourmash.lca import lca_utils\n",
    "from collections import defaultdict, Counter\n",
    "import math\n",
    "import pandas as pd"
   ]
  },
  {
   "cell_type": "code",
   "execution_count": 2,
   "id": "abca0ba1",
   "metadata": {},
   "outputs": [],
   "source": [
    "idx = sourmash.load_file_as_index('gtdb-rs207.genomic.k31.ncbi.sqldb')"
   ]
  },
  {
   "cell_type": "code",
   "execution_count": 3,
   "id": "6ba6fa19",
   "metadata": {},
   "outputs": [
    {
     "data": {
      "text/plain": [
       "<sourmash.index.sqlite_index.LCA_SqliteDatabase at 0x1083bfb50>"
      ]
     },
     "execution_count": 3,
     "metadata": {},
     "output_type": "execute_result"
    }
   ],
   "source": [
    "idx"
   ]
  },
  {
   "cell_type": "code",
   "execution_count": 4,
   "id": "b6475586",
   "metadata": {},
   "outputs": [],
   "source": [
    "def calc_entropy(lineages, *, rank='species'):\n",
    "    cnt = Counter()\n",
    "    for lin in lineages:\n",
    "        while lin[-1].rank != rank:\n",
    "            lin = lin[:-1]\n",
    "        cnt[lin] += 1\n",
    "        \n",
    "    total = sum(cnt.values())\n",
    "    H = 0\n",
    "    for v in cnt.values():\n",
    "        p = v / total\n",
    "        H -= p * math.log(p, 2)\n",
    "        \n",
    "    return H"
   ]
  },
  {
   "cell_type": "code",
   "execution_count": 5,
   "id": "7e109f9c",
   "metadata": {},
   "outputs": [
    {
     "name": "stdout",
     "output_type": "stream",
     "text": [
      "... 0\n",
      "... 100000\n",
      "... 200000\n",
      "... 300000\n",
      "... 400000\n",
      "... 500000\n",
      "... 600000\n",
      "... 700000\n",
      "... 800000\n",
      "... 900000\n",
      "... 1000000\n",
      "... 1100000\n",
      "... 1200000\n",
      "... 1300000\n",
      "... 1400000\n",
      "... 1500000\n",
      "... 1600000\n",
      "... 1700000\n",
      "... 1800000\n",
      "... 1900000\n",
      "... 2000000\n",
      "... 2100000\n",
      "... 2200000\n",
      "... 2300000\n",
      "... 2400000\n",
      "... 2500000\n",
      "... 2600000\n",
      "... 2700000\n",
      "... 2800000\n",
      "... 2900000\n",
      "... 3000000\n",
      "... 3100000\n",
      "... 3200000\n",
      "... 3300000\n",
      "... 3400000\n",
      "... 3500000\n",
      "... 3600000\n",
      "... 3700000\n",
      "... 3800000\n",
      "... 3900000\n",
      "... 4000000\n",
      "... 4100000\n",
      "... 4200000\n",
      "... 4300000\n",
      "... 4400000\n",
      "... 4500000\n",
      "... 4600000\n",
      "... 4700000\n",
      "... 4800000\n",
      "... 4900000\n",
      "... 5000000\n",
      "... 5100000\n",
      "... 5200000\n",
      "... 5300000\n",
      "... 5400000\n",
      "... 5500000\n",
      "... 5600000\n",
      "... 5700000\n",
      "... 5800000\n",
      "... 5900000\n",
      "... 6000000\n",
      "... 6100000\n",
      "... 6200000\n",
      "... 6300000\n",
      "... 6400000\n",
      "... 6500000\n",
      "... 6600000\n",
      "... 6700000\n",
      "... 6800000\n",
      "... 6900000\n",
      "... 7000000\n",
      "... 7100000\n",
      "... 7200000\n",
      "... 7300000\n",
      "... 7400000\n",
      "... 7500000\n",
      "... 7600000\n",
      "... 7700000\n",
      "... 7800000\n",
      "... 7900000\n",
      "... 8000000\n",
      "... 8100000\n",
      "... 8200000\n",
      "... 8300000\n",
      "... 8400000\n",
      "... 8500000\n",
      "... 8600000\n",
      "... 8700000\n",
      "... 8800000\n",
      "... 8900000\n",
      "... 9000000\n",
      "... 9100000\n",
      "... 9200000\n",
      "... 9300000\n",
      "... 9400000\n",
      "... 9500000\n",
      "... 9600000\n",
      "... 9700000\n",
      "... 9800000\n",
      "... 9900000\n",
      "... 10000000\n",
      "... 10100000\n",
      "... 10200000\n",
      "... 10300000\n",
      "... 10400000\n",
      "... 10500000\n",
      "... 10600000\n",
      "... 10700000\n",
      "... 10800000\n",
      "... 10900000\n",
      "... 11000000\n",
      "... 11100000\n",
      "... 11200000\n",
      "... 11300000\n",
      "... 11400000\n",
      "... 11500000\n",
      "... 11600000\n",
      "... 11700000\n",
      "... 11800000\n",
      "... 11900000\n",
      "... 12000000\n",
      "... 12100000\n",
      "... 12200000\n",
      "... 12300000\n",
      "... 12400000\n",
      "... 12500000\n",
      "... 12600000\n",
      "... 12700000\n",
      "... 12800000\n",
      "... 12900000\n",
      "... 13000000\n",
      "... 13100000\n",
      "... 13200000\n",
      "... 13300000\n",
      "... 13400000\n",
      "... 13500000\n",
      "... 13600000\n",
      "... 13700000\n",
      "... 13800000\n",
      "... 13900000\n",
      "... 14000000\n",
      "... 14100000\n",
      "... 14200000\n",
      "... 14300000\n",
      "... 14400000\n",
      "... 14500000\n",
      "... 14600000\n",
      "... 14700000\n",
      "... 14800000\n",
      "... 14900000\n",
      "... 15000000\n",
      "... 15100000\n",
      "... 15200000\n",
      "... 15300000\n",
      "... 15400000\n",
      "... 15500000\n",
      "... 15600000\n",
      "... 15700000\n",
      "... 15800000\n",
      "... 15900000\n",
      "... 16000000\n",
      "... 16100000\n",
      "... 16200000\n",
      "... 16300000\n",
      "... 16400000\n",
      "... 16500000\n",
      "... 16600000\n",
      "... 16700000\n",
      "... 16800000\n",
      "... 16900000\n",
      "... 17000000\n",
      "... 17100000\n",
      "... 17200000\n",
      "... 17300000\n",
      "... 17400000\n",
      "... 17500000\n",
      "... 17600000\n",
      "... 17700000\n",
      "... 17800000\n",
      "... 17900000\n",
      "... 18000000\n",
      "... 18100000\n",
      "... 18200000\n",
      "... 18300000\n",
      "... 18400000\n",
      "... 18500000\n",
      "... 18600000\n",
      "... 18700000\n",
      "... 18800000\n",
      "... 18900000\n",
      "... 19000000\n",
      "... 19100000\n",
      "... 19200000\n",
      "... 19300000\n",
      "... 19400000\n",
      "... 19500000\n",
      "... 19600000\n",
      "... 19700000\n",
      "... 19800000\n",
      "... 19900000\n",
      "... 20000000\n",
      "... 20100000\n",
      "... 20200000\n",
      "... 20300000\n",
      "... 20400000\n",
      "... 20500000\n",
      "... 20600000\n",
      "... 20700000\n",
      "... 20800000\n",
      "... 20900000\n",
      "... 21000000\n",
      "... 21100000\n",
      "... 21200000\n",
      "... 21300000\n",
      "... 21400000\n",
      "... 21500000\n",
      "... 21600000\n",
      "... 21700000\n",
      "... 21800000\n",
      "... 21900000\n",
      "... 22000000\n",
      "... 22100000\n",
      "... 22200000\n",
      "... 22300000\n",
      "... 22400000\n",
      "... 22500000\n",
      "... 22600000\n",
      "... 22700000\n"
     ]
    }
   ],
   "source": [
    "assignments = {}\n",
    "\n",
    "xx = []\n",
    "\n",
    "for n, hashval in enumerate(idx.hashvals):\n",
    "    if n % 100000 == 0:\n",
    "        print('...', n)\n",
    "        \n",
    "    lineages = idx.get_lineage_assignments(hashval)\n",
    "    H = calc_entropy(lineages)\n",
    "    xx.append(dict(hashval=hashval, H=H))"
   ]
  },
  {
   "cell_type": "code",
   "execution_count": 6,
   "id": "227faf3d",
   "metadata": {},
   "outputs": [],
   "source": [
    "species_df = pd.DataFrame(xx)\n"
   ]
  },
  {
   "cell_type": "code",
   "execution_count": 7,
   "id": "df271355",
   "metadata": {},
   "outputs": [
    {
     "name": "stdout",
     "output_type": "stream",
     "text": [
      "20744791 of 22792206 hashvals (91.0%) are perfectly informative at species level!\n"
     ]
    }
   ],
   "source": [
    "num_h0 = len(species_df[species_df.H == 0.0])\n",
    "nonzero_df = species_df[species_df.H > 0.0]\n",
    "total = len(species_df)\n",
    "\n",
    "print(f\"{num_h0} of {total} hashvals ({num_h0 / total * 100:.1f}%) are perfectly informative at species level!\")"
   ]
  },
  {
   "cell_type": "code",
   "execution_count": 9,
   "id": "f45e18f6",
   "metadata": {},
   "outputs": [
    {
     "data": {
      "text/plain": [
       "2047415"
      ]
     },
     "execution_count": 9,
     "metadata": {},
     "output_type": "execute_result"
    }
   ],
   "source": [
    "len(nonzero_df)"
   ]
  },
  {
   "cell_type": "code",
   "execution_count": 10,
   "id": "55ba7712",
   "metadata": {},
   "outputs": [],
   "source": [
    "hashvals = set(nonzero_df.hashval)"
   ]
  },
  {
   "cell_type": "code",
   "execution_count": 11,
   "id": "bbd84dea",
   "metadata": {},
   "outputs": [
    {
     "data": {
      "text/plain": [
       "2047415"
      ]
     },
     "execution_count": 11,
     "metadata": {},
     "output_type": "execute_result"
    }
   ],
   "source": [
    "len(hashvals)"
   ]
  },
  {
   "cell_type": "code",
   "execution_count": 12,
   "id": "0b341058",
   "metadata": {},
   "outputs": [
    {
     "name": "stdout",
     "output_type": "stream",
     "text": [
      "... 0\n",
      "... 100000\n",
      "... 200000\n",
      "... 300000\n",
      "... 400000\n",
      "... 500000\n",
      "... 600000\n",
      "... 700000\n",
      "... 800000\n",
      "... 900000\n",
      "... 1000000\n",
      "... 1100000\n",
      "... 1200000\n",
      "... 1300000\n",
      "... 1400000\n",
      "... 1500000\n",
      "... 1600000\n",
      "... 1700000\n",
      "... 1800000\n",
      "... 1900000\n",
      "... 2000000\n"
     ]
    }
   ],
   "source": [
    "zz = []\n",
    "for n, hashval in enumerate(hashvals):\n",
    "    if n % 100000 == 0:\n",
    "        print('...', n)\n",
    "        #if n > 0:        break\n",
    "    lineages = idx.get_lineage_assignments(hashval)\n",
    "    \n",
    "    H = calc_entropy(lineages, rank='genus')\n",
    "    \n",
    "    zz.append(dict(hashval=hashval, H=H))"
   ]
  },
  {
   "cell_type": "code",
   "execution_count": 13,
   "id": "544ccd77",
   "metadata": {},
   "outputs": [
    {
     "name": "stdout",
     "output_type": "stream",
     "text": [
      "779234 of 2047415 hashvals (38.1%) are perfectly informative at genus level!\n"
     ]
    }
   ],
   "source": [
    "genus_df = pd.DataFrame(zz)\n",
    "\n",
    "genus_num_h0 = len(genus_df[genus_df.H == 0.0])\n",
    "genus_nonzero_df = genus_df[genus_df.H > 0.0]\n",
    "genus_total = len(genus_df)\n",
    "\n",
    "print(f\"{genus_num_h0} of {genus_total} hashvals ({genus_num_h0 / genus_total * 100:.1f}%) are perfectly informative at genus level!\")"
   ]
  },
  {
   "cell_type": "code",
   "execution_count": 14,
   "id": "e4351fad",
   "metadata": {},
   "outputs": [
    {
     "data": {
      "text/plain": [
       "1268181"
      ]
     },
     "execution_count": 14,
     "metadata": {},
     "output_type": "execute_result"
    }
   ],
   "source": [
    "len(genus_nonzero_df)"
   ]
  },
  {
   "cell_type": "code",
   "execution_count": 17,
   "id": "51f64ee4",
   "metadata": {},
   "outputs": [
    {
     "name": "stdout",
     "output_type": "stream",
     "text": [
      "... 0\n",
      "... 100000\n",
      "... 200000\n",
      "... 300000\n",
      "... 400000\n",
      "... 500000\n",
      "... 600000\n",
      "... 700000\n",
      "... 800000\n",
      "... 900000\n",
      "... 1000000\n",
      "... 1100000\n",
      "... 1200000\n"
     ]
    }
   ],
   "source": [
    "zz2 = []\n",
    "for n, hashval in enumerate(genus_nonzero_df.hashval):\n",
    "    if n % 100000 == 0:\n",
    "        print('...', n)\n",
    "        #if n > 0:        break\n",
    "    lineages = idx.get_lineage_assignments(hashval)\n",
    "    \n",
    "    H = calc_entropy(lineages, rank='family')\n",
    "    \n",
    "    zz2.append(dict(hashval=hashval, H=H))"
   ]
  },
  {
   "cell_type": "code",
   "execution_count": 18,
   "id": "07e0d6f9",
   "metadata": {},
   "outputs": [
    {
     "name": "stdout",
     "output_type": "stream",
     "text": [
      "245718 of 1268181 hashvals (19.4%) are perfectly informative at family level!\n"
     ]
    }
   ],
   "source": [
    "family_df = pd.DataFrame(zz2)\n",
    "\n",
    "family_num_h0 = len(family_df[family_df.H == 0.0])\n",
    "family_nonzero_df = family_df[family_df.H > 0.0]\n",
    "family_total = len(family_df)\n",
    "\n",
    "print(f\"{family_num_h0} of {family_total} hashvals ({family_num_h0 / family_total * 100:.1f}%) are perfectly informative at family level!\")"
   ]
  },
  {
   "cell_type": "code",
   "execution_count": 19,
   "id": "22867cc3",
   "metadata": {},
   "outputs": [
    {
     "data": {
      "text/plain": [
       "1022463"
      ]
     },
     "execution_count": 19,
     "metadata": {},
     "output_type": "execute_result"
    }
   ],
   "source": [
    "len(family_nonzero_df)"
   ]
  },
  {
   "cell_type": "code",
   "execution_count": 20,
   "id": "42444f8a",
   "metadata": {},
   "outputs": [
    {
     "data": {
      "text/plain": [
       "0.04486020352746899"
      ]
     },
     "execution_count": 20,
     "metadata": {},
     "output_type": "execute_result"
    }
   ],
   "source": [
    "1022463 / 22792206"
   ]
  },
  {
   "cell_type": "code",
   "execution_count": null,
   "id": "4acfabb1",
   "metadata": {},
   "outputs": [],
   "source": []
  }
 ],
 "metadata": {
  "kernelspec": {
   "display_name": "py38arm",
   "language": "python",
   "name": "py38arm"
  },
  "language_info": {
   "codemirror_mode": {
    "name": "ipython",
    "version": 3
   },
   "file_extension": ".py",
   "mimetype": "text/x-python",
   "name": "python",
   "nbconvert_exporter": "python",
   "pygments_lexer": "ipython3",
   "version": "3.8.13"
  }
 },
 "nbformat": 4,
 "nbformat_minor": 5
}
