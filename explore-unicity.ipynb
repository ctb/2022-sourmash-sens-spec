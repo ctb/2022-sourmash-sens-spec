{
 "cells": [
  {
   "cell_type": "code",
   "execution_count": 1,
   "id": "914e9125",
   "metadata": {},
   "outputs": [
    {
     "name": "stdout",
     "output_type": "stream",
     "text": [
      "xxx\r\n"
     ]
    }
   ],
   "source": [
    "ls xxx"
   ]
  },
  {
   "cell_type": "code",
   "execution_count": 19,
   "id": "128468d2",
   "metadata": {},
   "outputs": [],
   "source": [
    "import csv\n",
    "\n",
    "def read_unicity_file(filename):\n",
    "    d = {}\n",
    "    with open(filename, newline=\"\") as fp:\n",
    "        r = csv.reader(fp)\n",
    "        for n, row in enumerate(r):\n",
    "            if n > 100000: break\n",
    "            ident = row[0]\n",
    "            unicity_trace = list(map(int, row[2:]))\n",
    "            d[ident] = unicity_trace\n",
    "    return d"
   ]
  },
  {
   "cell_type": "code",
   "execution_count": 20,
   "id": "6b548776",
   "metadata": {},
   "outputs": [],
   "source": [
    "d = read_unicity_file('xxx')"
   ]
  },
  {
   "cell_type": "code",
   "execution_count": 21,
   "id": "614fd084",
   "metadata": {},
   "outputs": [
    {
     "name": "stdout",
     "output_type": "stream",
     "text": [
      "15.4, 29.1\n"
     ]
    }
   ],
   "source": [
    "n_unique = 0\n",
    "n_infinite = 0\n",
    "for k, v in d.items():\n",
    "    if v[-1] != 1:\n",
    "        n_infinite += 1\n",
    "        #print(len(v), v[-3:])\n",
    "    if len(v) == 1:\n",
    "        n_unique += 1\n",
    "\n",
    "print(f\"{n_unique / len(d) * 100:.01f}, {n_infinite * 100 / len(d):.01f}\")"
   ]
  },
  {
   "cell_type": "code",
   "execution_count": null,
   "id": "44cd912a",
   "metadata": {},
   "outputs": [],
   "source": []
  }
 ],
 "metadata": {
  "kernelspec": {
   "display_name": "py38arm",
   "language": "python",
   "name": "py38arm"
  },
  "language_info": {
   "codemirror_mode": {
    "name": "ipython",
    "version": 3
   },
   "file_extension": ".py",
   "mimetype": "text/x-python",
   "name": "python",
   "nbconvert_exporter": "python",
   "pygments_lexer": "ipython3",
   "version": "3.8.13"
  }
 },
 "nbformat": 4,
 "nbformat_minor": 5
}
