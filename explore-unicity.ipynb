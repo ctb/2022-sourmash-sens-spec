{
 "cells": [
  {
   "cell_type": "code",
   "execution_count": 1,
   "id": "dd25cfe2",
   "metadata": {},
   "outputs": [
    {
     "name": "stdout",
     "output_type": "stream",
     "text": [
      "xxx\r\n"
     ]
    }
   ],
   "source": [
    "ls xxx"
   ]
  },
  {
   "cell_type": "code",
   "execution_count": 2,
   "id": "e945cc9a",
   "metadata": {},
   "outputs": [],
   "source": [
    "import csv\n",
    "\n",
    "def read_unicity_file(filename):\n",
    "    d = {}\n",
    "    with open(filename, newline=\"\") as fp:\n",
    "        r = csv.reader(fp)\n",
    "        for n, row in enumerate(r):\n",
    "            #if n > 100000: break\n",
    "            ident = row[0]\n",
    "            unicity_trace = list(map(int, row[2:]))\n",
    "            d[ident] = unicity_trace\n",
    "    return d"
   ]
  },
  {
   "cell_type": "code",
   "execution_count": 3,
   "id": "817f7990",
   "metadata": {},
   "outputs": [],
   "source": [
    "d = read_unicity_file('xxx')"
   ]
  },
  {
   "cell_type": "code",
   "execution_count": 4,
   "id": "e37c8c46",
   "metadata": {},
   "outputs": [
    {
     "name": "stdout",
     "output_type": "stream",
     "text": [
      "15.3, 29.1\n"
     ]
    }
   ],
   "source": [
    "n_unique = 0\n",
    "n_infinite = 0\n",
    "for k, v in d.items():\n",
    "    if v[-1] != 1:\n",
    "        n_infinite += 1\n",
    "        #print(len(v), v[-3:])\n",
    "    if len(v) == 1:\n",
    "        n_unique += 1\n",
    "\n",
    "print(f\"{n_unique / len(d) * 100:.01f}, {n_infinite * 100 / len(d):.01f}\")"
   ]
  },
  {
   "cell_type": "code",
   "execution_count": 5,
   "id": "ff0e9d46",
   "metadata": {},
   "outputs": [
    {
     "data": {
      "text/plain": [
       "258263"
      ]
     },
     "execution_count": 5,
     "metadata": {},
     "output_type": "execute_result"
    }
   ],
   "source": [
    "len(d)"
   ]
  },
  {
   "cell_type": "code",
   "execution_count": 6,
   "id": "bde22b0f",
   "metadata": {},
   "outputs": [],
   "source": [
    "z = []\n",
    "z2 = []\n",
    "for k, v in d.items():\n",
    "    z.append(len(v))\n",
    "    z2.append(dict(ident=k, unicity=len(v)))"
   ]
  },
  {
   "cell_type": "code",
   "execution_count": 7,
   "id": "08045b85",
   "metadata": {},
   "outputs": [],
   "source": [
    "import pandas as pd\n",
    "df = pd.DataFrame(z2)"
   ]
  },
  {
   "cell_type": "code",
   "execution_count": 8,
   "id": "6714a63c",
   "metadata": {},
   "outputs": [
    {
     "data": {
      "text/html": [
       "<div>\n",
       "<style scoped>\n",
       "    .dataframe tbody tr th:only-of-type {\n",
       "        vertical-align: middle;\n",
       "    }\n",
       "\n",
       "    .dataframe tbody tr th {\n",
       "        vertical-align: top;\n",
       "    }\n",
       "\n",
       "    .dataframe thead th {\n",
       "        text-align: right;\n",
       "    }\n",
       "</style>\n",
       "<table border=\"1\" class=\"dataframe\">\n",
       "  <thead>\n",
       "    <tr style=\"text-align: right;\">\n",
       "      <th></th>\n",
       "      <th>unicity</th>\n",
       "    </tr>\n",
       "  </thead>\n",
       "  <tbody>\n",
       "    <tr>\n",
       "      <th>count</th>\n",
       "      <td>258263.000000</td>\n",
       "    </tr>\n",
       "    <tr>\n",
       "      <th>mean</th>\n",
       "      <td>144.635112</td>\n",
       "    </tr>\n",
       "    <tr>\n",
       "      <th>std</th>\n",
       "      <td>187.981446</td>\n",
       "    </tr>\n",
       "    <tr>\n",
       "      <th>min</th>\n",
       "      <td>1.000000</td>\n",
       "    </tr>\n",
       "    <tr>\n",
       "      <th>25%</th>\n",
       "      <td>5.000000</td>\n",
       "    </tr>\n",
       "    <tr>\n",
       "      <th>50%</th>\n",
       "      <td>34.000000</td>\n",
       "    </tr>\n",
       "    <tr>\n",
       "      <th>75%</th>\n",
       "      <td>253.000000</td>\n",
       "    </tr>\n",
       "    <tr>\n",
       "      <th>max</th>\n",
       "      <td>1172.000000</td>\n",
       "    </tr>\n",
       "  </tbody>\n",
       "</table>\n",
       "</div>"
      ],
      "text/plain": [
       "             unicity\n",
       "count  258263.000000\n",
       "mean      144.635112\n",
       "std       187.981446\n",
       "min         1.000000\n",
       "25%         5.000000\n",
       "50%        34.000000\n",
       "75%       253.000000\n",
       "max      1172.000000"
      ]
     },
     "execution_count": 8,
     "metadata": {},
     "output_type": "execute_result"
    }
   ],
   "source": [
    "df.describe()"
   ]
  },
  {
   "cell_type": "code",
   "execution_count": 9,
   "id": "a4abdba9",
   "metadata": {},
   "outputs": [],
   "source": [
    "%matplotlib inline\n",
    "import matplotlib.pyplot as plt\n"
   ]
  },
  {
   "cell_type": "code",
   "execution_count": 10,
   "id": "3729ecc5",
   "metadata": {},
   "outputs": [
    {
     "data": {
      "text/plain": [
       "(array([ 99216., 120259., 131215., 138484., 144299., 148719., 152240.,\n",
       "        155524., 158812., 161483., 163543., 165647., 167488., 169341.,\n",
       "        172317., 175793., 179061., 181318., 184122., 188426., 192219.,\n",
       "        195067., 199791., 204507., 206331., 208359., 210076., 211368.,\n",
       "        212531., 213419., 214342., 215667., 216654., 218195., 221083.,\n",
       "        226206., 227624., 228787., 230206., 232977., 235790., 238432.,\n",
       "        241108., 243185., 244612., 245980., 247679., 249685., 251380.,\n",
       "        252166., 252775., 253187., 253658., 254220., 254671., 255056.,\n",
       "        255349., 255614., 255961., 256443., 256789., 257188., 257357.,\n",
       "        257472., 257581., 257648., 257740., 257808., 257866., 257951.,\n",
       "        257981., 258017., 258061., 258091., 258115., 258138., 258159.,\n",
       "        258175., 258191., 258209., 258221., 258224., 258228., 258232.,\n",
       "        258235., 258236., 258242., 258247., 258248., 258250., 258251.,\n",
       "        258252., 258252., 258258., 258259., 258261., 258261., 258261.,\n",
       "        258261., 258263.]),\n",
       " array([1.00000e+00, 1.27100e+01, 2.44200e+01, 3.61300e+01, 4.78400e+01,\n",
       "        5.95500e+01, 7.12600e+01, 8.29700e+01, 9.46800e+01, 1.06390e+02,\n",
       "        1.18100e+02, 1.29810e+02, 1.41520e+02, 1.53230e+02, 1.64940e+02,\n",
       "        1.76650e+02, 1.88360e+02, 2.00070e+02, 2.11780e+02, 2.23490e+02,\n",
       "        2.35200e+02, 2.46910e+02, 2.58620e+02, 2.70330e+02, 2.82040e+02,\n",
       "        2.93750e+02, 3.05460e+02, 3.17170e+02, 3.28880e+02, 3.40590e+02,\n",
       "        3.52300e+02, 3.64010e+02, 3.75720e+02, 3.87430e+02, 3.99140e+02,\n",
       "        4.10850e+02, 4.22560e+02, 4.34270e+02, 4.45980e+02, 4.57690e+02,\n",
       "        4.69400e+02, 4.81110e+02, 4.92820e+02, 5.04530e+02, 5.16240e+02,\n",
       "        5.27950e+02, 5.39660e+02, 5.51370e+02, 5.63080e+02, 5.74790e+02,\n",
       "        5.86500e+02, 5.98210e+02, 6.09920e+02, 6.21630e+02, 6.33340e+02,\n",
       "        6.45050e+02, 6.56760e+02, 6.68470e+02, 6.80180e+02, 6.91890e+02,\n",
       "        7.03600e+02, 7.15310e+02, 7.27020e+02, 7.38730e+02, 7.50440e+02,\n",
       "        7.62150e+02, 7.73860e+02, 7.85570e+02, 7.97280e+02, 8.08990e+02,\n",
       "        8.20700e+02, 8.32410e+02, 8.44120e+02, 8.55830e+02, 8.67540e+02,\n",
       "        8.79250e+02, 8.90960e+02, 9.02670e+02, 9.14380e+02, 9.26090e+02,\n",
       "        9.37800e+02, 9.49510e+02, 9.61220e+02, 9.72930e+02, 9.84640e+02,\n",
       "        9.96350e+02, 1.00806e+03, 1.01977e+03, 1.03148e+03, 1.04319e+03,\n",
       "        1.05490e+03, 1.06661e+03, 1.07832e+03, 1.09003e+03, 1.10174e+03,\n",
       "        1.11345e+03, 1.12516e+03, 1.13687e+03, 1.14858e+03, 1.16029e+03,\n",
       "        1.17200e+03]),\n",
       " <BarContainer object of 100 artists>)"
      ]
     },
     "execution_count": 10,
     "metadata": {},
     "output_type": "execute_result"
    },
    {
     "data": {
      "image/png": "[encoded data removed]",
      "text/plain": [
       "<Figure size 720x576 with 1 Axes>"
      ]
     },
     "metadata": {
      "needs_background": "light"
     },
     "output_type": "display_data"
    }
   ],
   "source": [
    "fig, ax = plt.subplots(figsize=(10, 8))\n",
    "\n",
    "ax.hist(z, cumulative=True, bins=100)"
   ]
  },
  {
   "cell_type": "code",
   "execution_count": null,
   "id": "225d207c",
   "metadata": {},
   "outputs": [],
   "source": []
  }
 ],
 "metadata": {
  "kernelspec": {
   "display_name": "py38arm",
   "language": "python",
   "name": "py38arm"
  },
  "language_info": {
   "codemirror_mode": {
    "name": "ipython",
    "version": 3
   },
   "file_extension": ".py",
   "mimetype": "text/x-python",
   "name": "python",
   "nbconvert_exporter": "python",
   "pygments_lexer": "ipython3",
   "version": "3.8.13"
  }
 },
 "nbformat": 4,
 "nbformat_minor": 5
}
