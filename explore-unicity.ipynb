{
 "cells": [
  {
   "cell_type": "markdown",
   "id": "427c7626",
   "metadata": {},
   "source": [
    "# Explore unicity distance for GTDB rs207\n",
    "\n",
    "[Unicity distance](https://en.wikipedia.org/wiki/Unicity_distance) for genomes; tentatively defined as \"How many sourmash hashes does it take to classify a genome uniquely?\""
   ]
  },
  {
   "cell_type": "code",
   "execution_count": 1,
   "id": "cc7e97bb",
   "metadata": {},
   "outputs": [],
   "source": [
    "import csv\n",
    "\n",
    "def read_unicity_file(filename):\n",
    "    d = {}\n",
    "    with open(filename, newline=\"\") as fp:\n",
    "        r = csv.reader(fp)\n",
    "        for n, row in enumerate(r):\n",
    "            #if n > 100000: break\n",
    "            ident = row[0]\n",
    "            unicity_trace = list(map(int, row[2:]))\n",
    "            d[ident] = unicity_trace\n",
    "    return d"
   ]
  },
  {
   "cell_type": "code",
   "execution_count": 2,
   "id": "021ec58c",
   "metadata": {},
   "outputs": [],
   "source": [
    "UNICITY_CSV = 'gtdb-rs207.genomic.k31.unicity.csv'\n",
    "d = read_unicity_file(UNICITY_CSV)"
   ]
  },
  {
   "cell_type": "code",
   "execution_count": 3,
   "id": "eb958a34",
   "metadata": {},
   "outputs": [
    {
     "name": "stdout",
     "output_type": "stream",
     "text": [
      "Looked at 317542 genomes total, in 'gtdb-rs207.genomic.k31.unicity.csv'\n",
      "15.3% of genomes have unicity distance of 1; 29.2% have an infinite unicity distance\n",
      "48630\n",
      "92564\n"
     ]
    }
   ],
   "source": [
    "n_unique = 0\n",
    "n_infinite = 0\n",
    "for k, v in d.items():\n",
    "    if v[-1] != 1:\n",
    "        n_infinite += 1\n",
    "        #print(len(v), v[-3:])\n",
    "    if len(v) == 1:\n",
    "        n_unique += 1\n",
    "\n",
    "print(f\"Looked at {len(d)} genomes total, in '{UNICITY_CSV}'\")\n",
    "print(f\"{n_unique / len(d) * 100:.01f}% of genomes have unicity distance of 1; {n_infinite * 100 / len(d):.01f}% have an infinite unicity distance\")\n",
    "print(n_unique)\n",
    "print(n_infinite)"
   ]
  },
  {
   "cell_type": "code",
   "execution_count": 4,
   "id": "5f01bb7d",
   "metadata": {},
   "outputs": [],
   "source": [
    "z = []\n",
    "z2 = []\n",
    "for k, v in d.items():\n",
    "    z.append(len(v))\n",
    "    is_infinite = bool(v[-1] != 1)\n",
    "    z2.append(dict(ident=k, unicity=len(v), is_infinite=is_infinite))"
   ]
  },
  {
   "cell_type": "code",
   "execution_count": 5,
   "id": "a6b94f74",
   "metadata": {},
   "outputs": [
    {
     "data": {
      "text/html": [
       "<div>\n",
       "<style scoped>\n",
       "    .dataframe tbody tr th:only-of-type {\n",
       "        vertical-align: middle;\n",
       "    }\n",
       "\n",
       "    .dataframe tbody tr th {\n",
       "        vertical-align: top;\n",
       "    }\n",
       "\n",
       "    .dataframe thead th {\n",
       "        text-align: right;\n",
       "    }\n",
       "</style>\n",
       "<table border=\"1\" class=\"dataframe\">\n",
       "  <thead>\n",
       "    <tr style=\"text-align: right;\">\n",
       "      <th></th>\n",
       "      <th>ident</th>\n",
       "      <th>unicity</th>\n",
       "      <th>is_infinite</th>\n",
       "    </tr>\n",
       "  </thead>\n",
       "  <tbody>\n",
       "    <tr>\n",
       "      <th>0</th>\n",
       "      <td>GCF_000814905.1</td>\n",
       "      <td>1</td>\n",
       "      <td>False</td>\n",
       "    </tr>\n",
       "    <tr>\n",
       "      <th>1</th>\n",
       "      <td>GCA_007116955.1</td>\n",
       "      <td>3</td>\n",
       "      <td>False</td>\n",
       "    </tr>\n",
       "    <tr>\n",
       "      <th>2</th>\n",
       "      <td>GCF_017948435.1</td>\n",
       "      <td>27</td>\n",
       "      <td>False</td>\n",
       "    </tr>\n",
       "    <tr>\n",
       "      <th>3</th>\n",
       "      <td>GCA_017995835.1</td>\n",
       "      <td>1</td>\n",
       "      <td>False</td>\n",
       "    </tr>\n",
       "    <tr>\n",
       "      <th>4</th>\n",
       "      <td>GCF_001981135.1</td>\n",
       "      <td>361</td>\n",
       "      <td>False</td>\n",
       "    </tr>\n",
       "    <tr>\n",
       "      <th>...</th>\n",
       "      <td>...</td>\n",
       "      <td>...</td>\n",
       "      <td>...</td>\n",
       "    </tr>\n",
       "    <tr>\n",
       "      <th>317537</th>\n",
       "      <td>GCA_019115945.1</td>\n",
       "      <td>147</td>\n",
       "      <td>True</td>\n",
       "    </tr>\n",
       "    <tr>\n",
       "      <th>317538</th>\n",
       "      <td>GCF_003849745.1</td>\n",
       "      <td>6</td>\n",
       "      <td>False</td>\n",
       "    </tr>\n",
       "    <tr>\n",
       "      <th>317539</th>\n",
       "      <td>GCA_903892235.1</td>\n",
       "      <td>124</td>\n",
       "      <td>False</td>\n",
       "    </tr>\n",
       "    <tr>\n",
       "      <th>317540</th>\n",
       "      <td>GCF_002317655.1</td>\n",
       "      <td>535</td>\n",
       "      <td>True</td>\n",
       "    </tr>\n",
       "    <tr>\n",
       "      <th>317541</th>\n",
       "      <td>GCA_903894045.1</td>\n",
       "      <td>9</td>\n",
       "      <td>False</td>\n",
       "    </tr>\n",
       "  </tbody>\n",
       "</table>\n",
       "<p>317542 rows × 3 columns</p>\n",
       "</div>"
      ],
      "text/plain": [
       "                  ident  unicity  is_infinite\n",
       "0       GCF_000814905.1        1        False\n",
       "1       GCA_007116955.1        3        False\n",
       "2       GCF_017948435.1       27        False\n",
       "3       GCA_017995835.1        1        False\n",
       "4       GCF_001981135.1      361        False\n",
       "...                 ...      ...          ...\n",
       "317537  GCA_019115945.1      147         True\n",
       "317538  GCF_003849745.1        6        False\n",
       "317539  GCA_903892235.1      124        False\n",
       "317540  GCF_002317655.1      535         True\n",
       "317541  GCA_903894045.1        9        False\n",
       "\n",
       "[317542 rows x 3 columns]"
      ]
     },
     "execution_count": 5,
     "metadata": {},
     "output_type": "execute_result"
    }
   ],
   "source": [
    "import pandas as pd\n",
    "df = pd.DataFrame(z2)\n",
    "df"
   ]
  },
  {
   "cell_type": "code",
   "execution_count": 6,
   "id": "dabb5219",
   "metadata": {},
   "outputs": [
    {
     "data": {
      "text/html": [
       "<div>\n",
       "<style scoped>\n",
       "    .dataframe tbody tr th:only-of-type {\n",
       "        vertical-align: middle;\n",
       "    }\n",
       "\n",
       "    .dataframe tbody tr th {\n",
       "        vertical-align: top;\n",
       "    }\n",
       "\n",
       "    .dataframe thead th {\n",
       "        text-align: right;\n",
       "    }\n",
       "</style>\n",
       "<table border=\"1\" class=\"dataframe\">\n",
       "  <thead>\n",
       "    <tr style=\"text-align: right;\">\n",
       "      <th></th>\n",
       "      <th>unicity</th>\n",
       "    </tr>\n",
       "  </thead>\n",
       "  <tbody>\n",
       "    <tr>\n",
       "      <th>count</th>\n",
       "      <td>317542.000000</td>\n",
       "    </tr>\n",
       "    <tr>\n",
       "      <th>mean</th>\n",
       "      <td>144.710756</td>\n",
       "    </tr>\n",
       "    <tr>\n",
       "      <th>std</th>\n",
       "      <td>187.921327</td>\n",
       "    </tr>\n",
       "    <tr>\n",
       "      <th>min</th>\n",
       "      <td>1.000000</td>\n",
       "    </tr>\n",
       "    <tr>\n",
       "      <th>25%</th>\n",
       "      <td>5.000000</td>\n",
       "    </tr>\n",
       "    <tr>\n",
       "      <th>50%</th>\n",
       "      <td>34.000000</td>\n",
       "    </tr>\n",
       "    <tr>\n",
       "      <th>75%</th>\n",
       "      <td>253.000000</td>\n",
       "    </tr>\n",
       "    <tr>\n",
       "      <th>max</th>\n",
       "      <td>1249.000000</td>\n",
       "    </tr>\n",
       "  </tbody>\n",
       "</table>\n",
       "</div>"
      ],
      "text/plain": [
       "             unicity\n",
       "count  317542.000000\n",
       "mean      144.710756\n",
       "std       187.921327\n",
       "min         1.000000\n",
       "25%         5.000000\n",
       "50%        34.000000\n",
       "75%       253.000000\n",
       "max      1249.000000"
      ]
     },
     "execution_count": 6,
     "metadata": {},
     "output_type": "execute_result"
    }
   ],
   "source": [
    "df.describe()"
   ]
  },
  {
   "cell_type": "code",
   "execution_count": 7,
   "id": "b3c65534",
   "metadata": {},
   "outputs": [],
   "source": [
    "%matplotlib inline\n",
    "import matplotlib.pyplot as plt\n"
   ]
  },
  {
   "cell_type": "code",
   "execution_count": 8,
   "id": "8ec318aa",
   "metadata": {},
   "outputs": [
    {
     "data": {
      "text/plain": [
       "(array([125272., 149168., 163007., 172187., 179200., 184341., 189071.,\n",
       "        192891., 196983., 200048., 202932., 205245., 207880., 211399.,\n",
       "        216009., 220079., 223381., 227064., 232956., 237557., 241939.,\n",
       "        248931., 252746., 255208., 257411., 259311., 260965., 262240.,\n",
       "        263261., 265159., 266372., 268436., 272870., 278585., 280298.,\n",
       "        281864., 284129., 287909., 291337., 295497., 298197., 300508.,\n",
       "        302283., 304441., 306892., 309244., 310125., 310932., 311495.,\n",
       "        312038., 312775., 313361., 313845., 314157., 314573., 315121.,\n",
       "        315654., 316141., 316397., 316574., 316721., 316804., 316915.,\n",
       "        317004., 317091., 317175., 317212., 317270., 317315., 317350.,\n",
       "        317381., 317411., 317431., 317455., 317472., 317489., 317493.,\n",
       "        317502., 317508., 317509., 317510., 317517., 317523., 317525.,\n",
       "        317527., 317527., 317528., 317533., 317536., 317538., 317538.,\n",
       "        317538., 317538., 317540., 317540., 317540., 317541., 317541.,\n",
       "        317541., 317542.]),\n",
       " array([1.00000e+00, 1.34800e+01, 2.59600e+01, 3.84400e+01, 5.09200e+01,\n",
       "        6.34000e+01, 7.58800e+01, 8.83600e+01, 1.00840e+02, 1.13320e+02,\n",
       "        1.25800e+02, 1.38280e+02, 1.50760e+02, 1.63240e+02, 1.75720e+02,\n",
       "        1.88200e+02, 2.00680e+02, 2.13160e+02, 2.25640e+02, 2.38120e+02,\n",
       "        2.50600e+02, 2.63080e+02, 2.75560e+02, 2.88040e+02, 3.00520e+02,\n",
       "        3.13000e+02, 3.25480e+02, 3.37960e+02, 3.50440e+02, 3.62920e+02,\n",
       "        3.75400e+02, 3.87880e+02, 4.00360e+02, 4.12840e+02, 4.25320e+02,\n",
       "        4.37800e+02, 4.50280e+02, 4.62760e+02, 4.75240e+02, 4.87720e+02,\n",
       "        5.00200e+02, 5.12680e+02, 5.25160e+02, 5.37640e+02, 5.50120e+02,\n",
       "        5.62600e+02, 5.75080e+02, 5.87560e+02, 6.00040e+02, 6.12520e+02,\n",
       "        6.25000e+02, 6.37480e+02, 6.49960e+02, 6.62440e+02, 6.74920e+02,\n",
       "        6.87400e+02, 6.99880e+02, 7.12360e+02, 7.24840e+02, 7.37320e+02,\n",
       "        7.49800e+02, 7.62280e+02, 7.74760e+02, 7.87240e+02, 7.99720e+02,\n",
       "        8.12200e+02, 8.24680e+02, 8.37160e+02, 8.49640e+02, 8.62120e+02,\n",
       "        8.74600e+02, 8.87080e+02, 8.99560e+02, 9.12040e+02, 9.24520e+02,\n",
       "        9.37000e+02, 9.49480e+02, 9.61960e+02, 9.74440e+02, 9.86920e+02,\n",
       "        9.99400e+02, 1.01188e+03, 1.02436e+03, 1.03684e+03, 1.04932e+03,\n",
       "        1.06180e+03, 1.07428e+03, 1.08676e+03, 1.09924e+03, 1.11172e+03,\n",
       "        1.12420e+03, 1.13668e+03, 1.14916e+03, 1.16164e+03, 1.17412e+03,\n",
       "        1.18660e+03, 1.19908e+03, 1.21156e+03, 1.22404e+03, 1.23652e+03,\n",
       "        1.24900e+03]),\n",
       " <BarContainer object of 100 artists>)"
      ]
     },
     "execution_count": 8,
     "metadata": {},
     "output_type": "execute_result"
    },
    {
     "data": {
      "image/png": "[encoded data removed]",
      "text/plain": [
       "<Figure size 720x576 with 1 Axes>"
      ]
     },
     "metadata": {
      "needs_background": "light"
     },
     "output_type": "display_data"
    }
   ],
   "source": [
    "fig, ax = plt.subplots(figsize=(10, 8))\n",
    "\n",
    "ax.hist(z, cumulative=True, bins=100)"
   ]
  },
  {
   "cell_type": "markdown",
   "id": "7d9735f6",
   "metadata": {},
   "source": [
    "## Taxonomy"
   ]
  },
  {
   "cell_type": "code",
   "execution_count": 9,
   "id": "ecbae4e9",
   "metadata": {},
   "outputs": [],
   "source": [
    "from sourmash.tax.tax_utils import MultiLineageDB, get_ident\n",
    "tax_db = MultiLineageDB.load(['../sourmash/gtdb-rs207.taxonomy.sqldb'])\n",
    "\n",
    "def get_genus(ident):\n",
    "    ident = get_ident(ident) # trim\n",
    "    lintup = tax_db[ident]\n",
    "    while lintup[-1].rank != 'genus':\n",
    "        lintup = lintup[:-1]\n",
    "        \n",
    "    assert lintup\n",
    "    return lintup[-1].name\n",
    "\n",
    "def get_species(ident):\n",
    "    ident = get_ident(ident) # trim\n",
    "    lintup = tax_db[ident]\n",
    "    while lintup[-1].rank != 'species':\n",
    "        lintup = lintup[:-1]\n",
    "        \n",
    "    assert lintup\n",
    "    return lintup[-1].name"
   ]
  },
  {
   "cell_type": "code",
   "execution_count": 11,
   "id": "3146990c",
   "metadata": {},
   "outputs": [],
   "source": [
    "df['genus'] = df['ident'].apply(get_genus)\n",
    "df['species'] = df['ident'].apply(get_species)"
   ]
  },
  {
   "cell_type": "code",
   "execution_count": 12,
   "id": "999f0228",
   "metadata": {},
   "outputs": [],
   "source": [
    "inf_df = df[df['is_infinite']]"
   ]
  },
  {
   "cell_type": "code",
   "execution_count": 13,
   "id": "efaf8526",
   "metadata": {},
   "outputs": [
    {
     "name": "stdout",
     "output_type": "stream",
     "text": [
      "|                               |   species |\n",
      "|:------------------------------|----------:|\n",
      "| s__Staphylococcus aureus      |      8367 |\n",
      "| s__Salmonella enterica        |      7602 |\n",
      "| s__Escherichia coli           |      6324 |\n",
      "| s__Streptococcus pneumoniae   |      5513 |\n",
      "| s__Mycobacterium tuberculosis |      5485 |\n",
      "| s__Klebsiella pneumoniae      |      4428 |\n",
      "| s__Acinetobacter baumannii    |      2519 |\n",
      "| s__Pseudomonas aeruginosa     |      1873 |\n",
      "| s__Streptococcus pyogenes     |      1399 |\n",
      "| s__Listeria monocytogenes     |      1207 |\n",
      "| s__Mycobacterium abscessus    |      1139 |\n",
      "| s__Listeria monocytogenes_B   |      1097 |\n",
      "| s__Clostridioides difficile   |       958 |\n",
      "| s__Burkholderia mallei        |       937 |\n",
      "| s__Neisseria meningitidis     |       893 |\n",
      "| s__Streptococcus suis         |       890 |\n",
      "| s__Wolbachia pipientis        |       869 |\n",
      "| s__Pseudomonas_E viridiflava  |       855 |\n",
      "| s__Vibrio cholerae            |       854 |\n",
      "| s__Enterococcus_B faecium     |       851 |\n"
     ]
    }
   ],
   "source": [
    "print(inf_df['species'].value_counts()[:20].to_markdown())"
   ]
  },
  {
   "cell_type": "code",
   "execution_count": 16,
   "id": "1f869686",
   "metadata": {},
   "outputs": [
    {
     "name": "stdout",
     "output_type": "stream",
     "text": [
      "|                                   |   species |\n",
      "|:----------------------------------|----------:|\n",
      "| s__JAHJIW01 sp018823125           |         1 |\n",
      "| s__Ardenticatena maritima         |         1 |\n",
      "| s__Pseudomonas_D salina           |         1 |\n",
      "| s__Arthrobacter_E woluwensis      |         1 |\n",
      "| s__Longimicrobium terrae          |         1 |\n",
      "| s__Corynebacterium pilosum        |         1 |\n",
      "| s__Dickeya chrysanthemi           |         1 |\n",
      "| s__Marinirhabdus sp002375495      |         1 |\n",
      "| s__Echinicola rosea               |         1 |\n",
      "| s__TMED25 sp016780665             |         1 |\n",
      "| s__XYB1-FULL-32-11 sp903854535    |         1 |\n",
      "| s__UBA2277 sp903886255            |         1 |\n",
      "| s__Flavobacterium sp004634195     |         1 |\n",
      "| s__Chlorobium phaeoclathratiforme |         1 |\n",
      "| s__Salinicoccus roseus            |         1 |\n",
      "| s__Cedecea neteri                 |         1 |\n",
      "| s__Microbacterium paraoxydans     |         1 |\n",
      "| s__Streptococcus himalayensis     |         1 |\n",
      "| s__WRGU01 sp009787015             |         1 |\n",
      "| s__Borkfalkia excrementavium      |         1 |\n"
     ]
    }
   ],
   "source": [
    "print(inf_df['species'].value_counts()[-20:].to_markdown())"
   ]
  },
  {
   "cell_type": "code",
   "execution_count": 14,
   "id": "ff4e532c",
   "metadata": {},
   "outputs": [
    {
     "name": "stdout",
     "output_type": "stream",
     "text": [
      "|                    |   genus |\n",
      "|:-------------------|--------:|\n",
      "| g__Streptococcus   |    9682 |\n",
      "| g__Staphylococcus  |    9476 |\n",
      "| g__Salmonella      |    7700 |\n",
      "| g__Mycobacterium   |    6875 |\n",
      "| g__Escherichia     |    6383 |\n",
      "| g__Klebsiella      |    5032 |\n",
      "| g__Acinetobacter   |    2772 |\n",
      "| g__Listeria        |    2456 |\n",
      "| g__Pseudomonas     |    1900 |\n",
      "| g__Pseudomonas_E   |    1875 |\n",
      "| g__Vibrio          |    1794 |\n",
      "| g__Burkholderia    |    1654 |\n",
      "| g__Neisseria       |    1397 |\n",
      "| g__Campylobacter_D |    1389 |\n",
      "| g__Enterococcus_B  |    1178 |\n",
      "| g__Clostridioides  |     960 |\n",
      "| g__Bordetella      |     938 |\n",
      "| g__Francisella     |     906 |\n",
      "| g__Wolbachia       |     905 |\n",
      "| g__Enterococcus    |     787 |\n"
     ]
    }
   ],
   "source": [
    "print(inf_df['genus'].value_counts()[:20].to_markdown())"
   ]
  },
  {
   "cell_type": "code",
   "execution_count": 15,
   "id": "bfa7b961",
   "metadata": {},
   "outputs": [
    {
     "name": "stdout",
     "output_type": "stream",
     "text": [
      "|                     |   genus |\n",
      "|:--------------------|--------:|\n",
      "| g__2-01-FULL-38-13  |       1 |\n",
      "| g__UBA6175          |       1 |\n",
      "| g__Bisgaardia       |       1 |\n",
      "| g__SR-FBR-E99       |       1 |\n",
      "| g__Longimicrobium   |       1 |\n",
      "| g__1-14-0-20-42-23  |       1 |\n",
      "| g__WRGU01           |       1 |\n",
      "| g__Halogeometricum  |       1 |\n",
      "| g__XYB1-FULL-32-11  |       1 |\n",
      "| g__Arthrobacter_E   |       1 |\n",
      "| g__JAHJIW01         |       1 |\n",
      "| g__2-02-FULL-40-12  |       1 |\n",
      "| g__Fischerella      |       1 |\n",
      "| g__WO2-46-25        |       1 |\n",
      "| g__Wagnerdoeblera   |       1 |\n",
      "| g__UBA2361          |       1 |\n",
      "| g__Ornithobacterium |       1 |\n",
      "| g__UBA4765          |       1 |\n",
      "| g__Anoxybacillus_A  |       1 |\n",
      "| g__Borkfalkia       |       1 |\n"
     ]
    }
   ],
   "source": [
    "print(inf_df['genus'].value_counts()[-20:].to_markdown())"
   ]
  },
  {
   "cell_type": "code",
   "execution_count": 19,
   "id": "1b524a56",
   "metadata": {},
   "outputs": [
    {
     "name": "stdout",
     "output_type": "stream",
     "text": [
      "8367\n"
     ]
    },
    {
     "data": {
      "text/html": [
       "<div>\n",
       "<style scoped>\n",
       "    .dataframe tbody tr th:only-of-type {\n",
       "        vertical-align: middle;\n",
       "    }\n",
       "\n",
       "    .dataframe tbody tr th {\n",
       "        vertical-align: top;\n",
       "    }\n",
       "\n",
       "    .dataframe thead th {\n",
       "        text-align: right;\n",
       "    }\n",
       "</style>\n",
       "<table border=\"1\" class=\"dataframe\">\n",
       "  <thead>\n",
       "    <tr style=\"text-align: right;\">\n",
       "      <th></th>\n",
       "      <th>ident</th>\n",
       "      <th>unicity</th>\n",
       "      <th>is_infinite</th>\n",
       "      <th>genus</th>\n",
       "      <th>species</th>\n",
       "    </tr>\n",
       "  </thead>\n",
       "  <tbody>\n",
       "    <tr>\n",
       "      <th>170</th>\n",
       "      <td>GCF_003423725.1</td>\n",
       "      <td>248</td>\n",
       "      <td>True</td>\n",
       "      <td>g__Staphylococcus</td>\n",
       "      <td>s__Staphylococcus aureus</td>\n",
       "    </tr>\n",
       "    <tr>\n",
       "      <th>176</th>\n",
       "      <td>GCF_900017645.1</td>\n",
       "      <td>264</td>\n",
       "      <td>True</td>\n",
       "      <td>g__Staphylococcus</td>\n",
       "      <td>s__Staphylococcus aureus</td>\n",
       "    </tr>\n",
       "    <tr>\n",
       "      <th>199</th>\n",
       "      <td>GCF_000564935.1</td>\n",
       "      <td>260</td>\n",
       "      <td>True</td>\n",
       "      <td>g__Staphylococcus</td>\n",
       "      <td>s__Staphylococcus aureus</td>\n",
       "    </tr>\n",
       "    <tr>\n",
       "      <th>203</th>\n",
       "      <td>GCF_900038455.1</td>\n",
       "      <td>264</td>\n",
       "      <td>True</td>\n",
       "      <td>g__Staphylococcus</td>\n",
       "      <td>s__Staphylococcus aureus</td>\n",
       "    </tr>\n",
       "    <tr>\n",
       "      <th>222</th>\n",
       "      <td>GCF_000546145.1</td>\n",
       "      <td>272</td>\n",
       "      <td>True</td>\n",
       "      <td>g__Staphylococcus</td>\n",
       "      <td>s__Staphylococcus aureus</td>\n",
       "    </tr>\n",
       "    <tr>\n",
       "      <th>...</th>\n",
       "      <td>...</td>\n",
       "      <td>...</td>\n",
       "      <td>...</td>\n",
       "      <td>...</td>\n",
       "      <td>...</td>\n",
       "    </tr>\n",
       "    <tr>\n",
       "      <th>317422</th>\n",
       "      <td>GCF_000162695.1</td>\n",
       "      <td>252</td>\n",
       "      <td>True</td>\n",
       "      <td>g__Staphylococcus</td>\n",
       "      <td>s__Staphylococcus aureus</td>\n",
       "    </tr>\n",
       "    <tr>\n",
       "      <th>317424</th>\n",
       "      <td>GCF_000570875.1</td>\n",
       "      <td>271</td>\n",
       "      <td>True</td>\n",
       "      <td>g__Staphylococcus</td>\n",
       "      <td>s__Staphylococcus aureus</td>\n",
       "    </tr>\n",
       "    <tr>\n",
       "      <th>317430</th>\n",
       "      <td>GCF_000573525.1</td>\n",
       "      <td>271</td>\n",
       "      <td>True</td>\n",
       "      <td>g__Staphylococcus</td>\n",
       "      <td>s__Staphylococcus aureus</td>\n",
       "    </tr>\n",
       "    <tr>\n",
       "      <th>317466</th>\n",
       "      <td>GCF_001196435.1</td>\n",
       "      <td>271</td>\n",
       "      <td>True</td>\n",
       "      <td>g__Staphylococcus</td>\n",
       "      <td>s__Staphylococcus aureus</td>\n",
       "    </tr>\n",
       "    <tr>\n",
       "      <th>317520</th>\n",
       "      <td>GCF_000552005.1</td>\n",
       "      <td>278</td>\n",
       "      <td>True</td>\n",
       "      <td>g__Staphylococcus</td>\n",
       "      <td>s__Staphylococcus aureus</td>\n",
       "    </tr>\n",
       "  </tbody>\n",
       "</table>\n",
       "<p>8367 rows × 5 columns</p>\n",
       "</div>"
      ],
      "text/plain": [
       "                  ident  unicity  is_infinite              genus  \\\n",
       "170     GCF_003423725.1      248         True  g__Staphylococcus   \n",
       "176     GCF_900017645.1      264         True  g__Staphylococcus   \n",
       "199     GCF_000564935.1      260         True  g__Staphylococcus   \n",
       "203     GCF_900038455.1      264         True  g__Staphylococcus   \n",
       "222     GCF_000546145.1      272         True  g__Staphylococcus   \n",
       "...                 ...      ...          ...                ...   \n",
       "317422  GCF_000162695.1      252         True  g__Staphylococcus   \n",
       "317424  GCF_000570875.1      271         True  g__Staphylococcus   \n",
       "317430  GCF_000573525.1      271         True  g__Staphylococcus   \n",
       "317466  GCF_001196435.1      271         True  g__Staphylococcus   \n",
       "317520  GCF_000552005.1      278         True  g__Staphylococcus   \n",
       "\n",
       "                         species  \n",
       "170     s__Staphylococcus aureus  \n",
       "176     s__Staphylococcus aureus  \n",
       "199     s__Staphylococcus aureus  \n",
       "203     s__Staphylococcus aureus  \n",
       "222     s__Staphylococcus aureus  \n",
       "...                          ...  \n",
       "317422  s__Staphylococcus aureus  \n",
       "317424  s__Staphylococcus aureus  \n",
       "317430  s__Staphylococcus aureus  \n",
       "317466  s__Staphylococcus aureus  \n",
       "317520  s__Staphylococcus aureus  \n",
       "\n",
       "[8367 rows x 5 columns]"
      ]
     },
     "execution_count": 19,
     "metadata": {},
     "output_type": "execute_result"
    }
   ],
   "source": [
    "staph_df = inf_df[inf_df['species'] == 's__Staphylococcus aureus']\n",
    "print(len(staph_df))\n",
    "\n",
    "with open('staph_inf.csv', 'w', newline=\"\") as fp:\n",
    "    w = csv.writer(fp)\n",
    "    w.writerow(['ident'])\n",
    "    for ident in staph_df.ident:\n",
    "        w.writerow([ident])\n",
    "\n",
    "staph_df"
   ]
  },
  {
   "cell_type": "code",
   "execution_count": 21,
   "id": "a9e5469b",
   "metadata": {},
   "outputs": [
    {
     "name": "stdout",
     "output_type": "stream",
     "text": [
      "1\n"
     ]
    },
    {
     "data": {
      "text/html": [
       "<div>\n",
       "<style scoped>\n",
       "    .dataframe tbody tr th:only-of-type {\n",
       "        vertical-align: middle;\n",
       "    }\n",
       "\n",
       "    .dataframe tbody tr th {\n",
       "        vertical-align: top;\n",
       "    }\n",
       "\n",
       "    .dataframe thead th {\n",
       "        text-align: right;\n",
       "    }\n",
       "</style>\n",
       "<table border=\"1\" class=\"dataframe\">\n",
       "  <thead>\n",
       "    <tr style=\"text-align: right;\">\n",
       "      <th></th>\n",
       "      <th>ident</th>\n",
       "      <th>unicity</th>\n",
       "      <th>is_infinite</th>\n",
       "      <th>genus</th>\n",
       "      <th>species</th>\n",
       "    </tr>\n",
       "  </thead>\n",
       "  <tbody>\n",
       "    <tr>\n",
       "      <th>317537</th>\n",
       "      <td>GCA_019115945.1</td>\n",
       "      <td>147</td>\n",
       "      <td>True</td>\n",
       "      <td>g__Borkfalkia</td>\n",
       "      <td>s__Borkfalkia excrementavium</td>\n",
       "    </tr>\n",
       "  </tbody>\n",
       "</table>\n",
       "</div>"
      ],
      "text/plain": [
       "                  ident  unicity  is_infinite          genus  \\\n",
       "317537  GCA_019115945.1      147         True  g__Borkfalkia   \n",
       "\n",
       "                             species  \n",
       "317537  s__Borkfalkia excrementavium  "
      ]
     },
     "execution_count": 21,
     "metadata": {},
     "output_type": "execute_result"
    }
   ],
   "source": [
    "bork_df = inf_df[inf_df['species'] == 's__Borkfalkia excrementavium']\n",
    "print(len(bork_df))\n",
    "\n",
    "with open('bork_inf.csv', 'w', newline=\"\") as fp:\n",
    "    w = csv.writer(fp)\n",
    "    w.writerow(['ident'])\n",
    "    for ident in bork_df.ident:\n",
    "        w.writerow([ident])\n",
    "\n",
    "bork_df"
   ]
  },
  {
   "cell_type": "code",
   "execution_count": null,
   "id": "8cf09302",
   "metadata": {},
   "outputs": [],
   "source": []
  }
 ],
 "metadata": {
  "kernelspec": {
   "display_name": "py38arm",
   "language": "python",
   "name": "py38arm"
  },
  "language_info": {
   "codemirror_mode": {
    "name": "ipython",
    "version": 3
   },
   "file_extension": ".py",
   "mimetype": "text/x-python",
   "name": "python",
   "nbconvert_exporter": "python",
   "pygments_lexer": "ipython3",
   "version": "3.8.13"
  }
 },
 "nbformat": 4,
 "nbformat_minor": 5
}
